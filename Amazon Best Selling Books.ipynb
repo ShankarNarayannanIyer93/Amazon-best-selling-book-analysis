{
 "cells": [
  {
   "cell_type": "code",
   "execution_count": 5,
   "id": "76394f34",
   "metadata": {},
   "outputs": [],
   "source": [
    "#importing libraries\n",
    "import numpy as np\n",
    "import pandas as pd\n",
    "import matplotlib.pyplot as plt\n",
    "import plotly.express as px\n",
    "import plotly.graph_objects as go\n",
    "import seaborn as sns"
   ]
  },
  {
   "cell_type": "code",
   "execution_count": 2,
   "id": "62956a57",
   "metadata": {},
   "outputs": [
    {
     "data": {
      "text/html": [
       "<div>\n",
       "<style scoped>\n",
       "    .dataframe tbody tr th:only-of-type {\n",
       "        vertical-align: middle;\n",
       "    }\n",
       "\n",
       "    .dataframe tbody tr th {\n",
       "        vertical-align: top;\n",
       "    }\n",
       "\n",
       "    .dataframe thead th {\n",
       "        text-align: right;\n",
       "    }\n",
       "</style>\n",
       "<table border=\"1\" class=\"dataframe\">\n",
       "  <thead>\n",
       "    <tr style=\"text-align: right;\">\n",
       "      <th></th>\n",
       "      <th>Name</th>\n",
       "      <th>Author</th>\n",
       "      <th>User Rating</th>\n",
       "      <th>Reviews</th>\n",
       "      <th>Price</th>\n",
       "      <th>Year</th>\n",
       "      <th>Genre</th>\n",
       "    </tr>\n",
       "  </thead>\n",
       "  <tbody>\n",
       "    <tr>\n",
       "      <th>0</th>\n",
       "      <td>10-Day Green Smoothie Cleanse</td>\n",
       "      <td>JJ Smith</td>\n",
       "      <td>4.7</td>\n",
       "      <td>17350</td>\n",
       "      <td>8</td>\n",
       "      <td>2016</td>\n",
       "      <td>Non Fiction</td>\n",
       "    </tr>\n",
       "    <tr>\n",
       "      <th>1</th>\n",
       "      <td>11/22/63: A Novel</td>\n",
       "      <td>Stephen King</td>\n",
       "      <td>4.6</td>\n",
       "      <td>2052</td>\n",
       "      <td>22</td>\n",
       "      <td>2011</td>\n",
       "      <td>Fiction</td>\n",
       "    </tr>\n",
       "    <tr>\n",
       "      <th>2</th>\n",
       "      <td>12 Rules for Life: An Antidote to Chaos</td>\n",
       "      <td>Jordan B. Peterson</td>\n",
       "      <td>4.7</td>\n",
       "      <td>18979</td>\n",
       "      <td>15</td>\n",
       "      <td>2018</td>\n",
       "      <td>Non Fiction</td>\n",
       "    </tr>\n",
       "    <tr>\n",
       "      <th>3</th>\n",
       "      <td>1984 (Signet Classics)</td>\n",
       "      <td>George Orwell</td>\n",
       "      <td>4.7</td>\n",
       "      <td>21424</td>\n",
       "      <td>6</td>\n",
       "      <td>2017</td>\n",
       "      <td>Fiction</td>\n",
       "    </tr>\n",
       "    <tr>\n",
       "      <th>4</th>\n",
       "      <td>5,000 Awesome Facts (About Everything!) (Natio...</td>\n",
       "      <td>National Geographic Kids</td>\n",
       "      <td>4.8</td>\n",
       "      <td>7665</td>\n",
       "      <td>12</td>\n",
       "      <td>2019</td>\n",
       "      <td>Non Fiction</td>\n",
       "    </tr>\n",
       "  </tbody>\n",
       "</table>\n",
       "</div>"
      ],
      "text/plain": [
       "                                                Name  \\\n",
       "0                      10-Day Green Smoothie Cleanse   \n",
       "1                                  11/22/63: A Novel   \n",
       "2            12 Rules for Life: An Antidote to Chaos   \n",
       "3                             1984 (Signet Classics)   \n",
       "4  5,000 Awesome Facts (About Everything!) (Natio...   \n",
       "\n",
       "                     Author  User Rating  Reviews  Price  Year        Genre  \n",
       "0                  JJ Smith          4.7    17350      8  2016  Non Fiction  \n",
       "1              Stephen King          4.6     2052     22  2011      Fiction  \n",
       "2        Jordan B. Peterson          4.7    18979     15  2018  Non Fiction  \n",
       "3             George Orwell          4.7    21424      6  2017      Fiction  \n",
       "4  National Geographic Kids          4.8     7665     12  2019  Non Fiction  "
      ]
     },
     "execution_count": 2,
     "metadata": {},
     "output_type": "execute_result"
    }
   ],
   "source": [
    "data = pd.read_csv(\"Amazon Books.csv\")\n",
    "data.head()"
   ]
  },
  {
   "cell_type": "code",
   "execution_count": 3,
   "id": "dca94812",
   "metadata": {},
   "outputs": [
    {
     "data": {
      "text/plain": [
       "(550, 7)"
      ]
     },
     "execution_count": 3,
     "metadata": {},
     "output_type": "execute_result"
    }
   ],
   "source": [
    "data.shape"
   ]
  },
  {
   "cell_type": "markdown",
   "id": "444d2f9e",
   "metadata": {},
   "source": [
    "There are seven features and 550 observations in this dataset"
   ]
  },
  {
   "cell_type": "code",
   "execution_count": 4,
   "id": "381e33f2",
   "metadata": {},
   "outputs": [
    {
     "name": "stdout",
     "output_type": "stream",
     "text": [
      "<class 'pandas.core.frame.DataFrame'>\n",
      "RangeIndex: 550 entries, 0 to 549\n",
      "Data columns (total 7 columns):\n",
      " #   Column       Non-Null Count  Dtype  \n",
      "---  ------       --------------  -----  \n",
      " 0   Name         550 non-null    object \n",
      " 1   Author       550 non-null    object \n",
      " 2   User Rating  550 non-null    float64\n",
      " 3   Reviews      550 non-null    int64  \n",
      " 4   Price        550 non-null    int64  \n",
      " 5   Year         550 non-null    int64  \n",
      " 6   Genre        550 non-null    object \n",
      "dtypes: float64(1), int64(3), object(3)\n",
      "memory usage: 30.2+ KB\n"
     ]
    }
   ],
   "source": [
    "data.info()"
   ]
  },
  {
   "cell_type": "markdown",
   "id": "a1b47308",
   "metadata": {},
   "source": [
    "The datatypes are correct. With no null values in any columns."
   ]
  },
  {
   "cell_type": "code",
   "execution_count": 120,
   "id": "087e5333",
   "metadata": {},
   "outputs": [
    {
     "data": {
      "text/html": [
       "<div>\n",
       "<style scoped>\n",
       "    .dataframe tbody tr th:only-of-type {\n",
       "        vertical-align: middle;\n",
       "    }\n",
       "\n",
       "    .dataframe tbody tr th {\n",
       "        vertical-align: top;\n",
       "    }\n",
       "\n",
       "    .dataframe thead th {\n",
       "        text-align: right;\n",
       "    }\n",
       "</style>\n",
       "<table border=\"1\" class=\"dataframe\">\n",
       "  <thead>\n",
       "    <tr style=\"text-align: right;\">\n",
       "      <th></th>\n",
       "      <th>User Rating</th>\n",
       "      <th>Reviews</th>\n",
       "      <th>Price</th>\n",
       "    </tr>\n",
       "    <tr>\n",
       "      <th>Year</th>\n",
       "      <th></th>\n",
       "      <th></th>\n",
       "      <th></th>\n",
       "    </tr>\n",
       "  </thead>\n",
       "  <tbody>\n",
       "    <tr>\n",
       "      <th>2009</th>\n",
       "      <td>229.2</td>\n",
       "      <td>235506</td>\n",
       "      <td>770</td>\n",
       "    </tr>\n",
       "    <tr>\n",
       "      <th>2010</th>\n",
       "      <td>227.9</td>\n",
       "      <td>273981</td>\n",
       "      <td>674</td>\n",
       "    </tr>\n",
       "    <tr>\n",
       "      <th>2011</th>\n",
       "      <td>227.9</td>\n",
       "      <td>405041</td>\n",
       "      <td>755</td>\n",
       "    </tr>\n",
       "    <tr>\n",
       "      <th>2012</th>\n",
       "      <td>226.6</td>\n",
       "      <td>654546</td>\n",
       "      <td>765</td>\n",
       "    </tr>\n",
       "    <tr>\n",
       "      <th>2013</th>\n",
       "      <td>227.7</td>\n",
       "      <td>654907</td>\n",
       "      <td>730</td>\n",
       "    </tr>\n",
       "    <tr>\n",
       "      <th>2014</th>\n",
       "      <td>231.1</td>\n",
       "      <td>792997</td>\n",
       "      <td>732</td>\n",
       "    </tr>\n",
       "    <tr>\n",
       "      <th>2015</th>\n",
       "      <td>232.4</td>\n",
       "      <td>711669</td>\n",
       "      <td>521</td>\n",
       "    </tr>\n",
       "    <tr>\n",
       "      <th>2016</th>\n",
       "      <td>233.9</td>\n",
       "      <td>709800</td>\n",
       "      <td>659</td>\n",
       "    </tr>\n",
       "    <tr>\n",
       "      <th>2017</th>\n",
       "      <td>233.0</td>\n",
       "      <td>644420</td>\n",
       "      <td>569</td>\n",
       "    </tr>\n",
       "    <tr>\n",
       "      <th>2018</th>\n",
       "      <td>233.4</td>\n",
       "      <td>696521</td>\n",
       "      <td>526</td>\n",
       "    </tr>\n",
       "    <tr>\n",
       "      <th>2019</th>\n",
       "      <td>237.0</td>\n",
       "      <td>794917</td>\n",
       "      <td>504</td>\n",
       "    </tr>\n",
       "  </tbody>\n",
       "</table>\n",
       "</div>"
      ],
      "text/plain": [
       "      User Rating  Reviews  Price\n",
       "Year                             \n",
       "2009        229.2   235506    770\n",
       "2010        227.9   273981    674\n",
       "2011        227.9   405041    755\n",
       "2012        226.6   654546    765\n",
       "2013        227.7   654907    730\n",
       "2014        231.1   792997    732\n",
       "2015        232.4   711669    521\n",
       "2016        233.9   709800    659\n",
       "2017        233.0   644420    569\n",
       "2018        233.4   696521    526\n",
       "2019        237.0   794917    504"
      ]
     },
     "execution_count": 120,
     "metadata": {},
     "output_type": "execute_result"
    }
   ],
   "source": [
    "# Let's try to understand year-wise number of ratings given\n",
    "yearly_ratings = data.groupby(data['Year']).sum()\n",
    "yearly_ratings"
   ]
  },
  {
   "cell_type": "code",
   "execution_count": 111,
   "id": "845ecf17",
   "metadata": {},
   "outputs": [
    {
     "data": {
      "text/plain": [
       "<AxesSubplot:>"
      ]
     },
     "execution_count": 111,
     "metadata": {},
     "output_type": "execute_result"
    },
    {
     "data": {
      "image/png": "[encoded data removed]",
      "text/plain": [
       "<Figure size 432x288 with 1 Axes>"
      ]
     },
     "metadata": {
      "needs_background": "light"
     },
     "output_type": "display_data"
    }
   ],
   "source": [
    "# Breakdown by Genre\n",
    "data['Genre'].value_counts().plot(kind='bar')"
   ]
  },
  {
   "cell_type": "code",
   "execution_count": 10,
   "id": "45eb8245",
   "metadata": {},
   "outputs": [
    {
     "data": {
      "application/vnd.plotly.v1+json": {
       "config": {
        "plotlyServerURL": "https://plot.ly"
       },
       "data": [
        {
         "alignmentgroup": "True",
         "hovertemplate": "Genre=Non Fiction<br>Year=%{x}<br>User Rating=%{y}<extra></extra>",
         "legendgroup": "Non Fiction",
         "marker": {
          "color": "#636efa",
          "pattern": {
           "shape": ""
          }
         },
         "name": "Non Fiction",
         "offsetgroup": "Non Fiction",
         "orientation": "v",
         "showlegend": true,
         "textposition": "auto",
         "type": "bar",
         "x": [
          2016,
          2018,
          2019,
          2018,
          2010,
          2011,
          2009,
          2016,
          2015,
          2015,
          2015,
          2016,
          2015,
          2009,
          2017,
          2010,
          2015,
          2015,
          2012,
          2010,
          2018,
          2019,
          2015,
          2015,
          2016,
          2016,
          2010,
          2016,
          2019,
          2014,
          2016,
          2009,
          2010,
          2011,
          2015,
          2015,
          2013,
          2013,
          2010,
          2010,
          2013,
          2014,
          2019,
          2009,
          2015,
          2010,
          2009,
          2009,
          2011,
          2012,
          2018,
          2019,
          2015,
          2018,
          2018,
          2014,
          2015,
          2016,
          2017,
          2018,
          2010,
          2010,
          2010,
          2013,
          2019,
          2018,
          2019,
          2009,
          2009,
          2019,
          2009,
          2010,
          2011,
          2012,
          2014,
          2019,
          2016,
          2013,
          2015,
          2009,
          2011,
          2012,
          2016,
          2017,
          2018,
          2014,
          2015,
          2016,
          2017,
          2018,
          2019,
          2013,
          2014,
          2015,
          2013,
          2019,
          2011,
          2019,
          2018,
          2019,
          2011,
          2012,
          2013,
          2014,
          2015,
          2016,
          2017,
          2013,
          2012,
          2011,
          2012,
          2014,
          2015,
          2016,
          2018,
          2013,
          2014,
          2015,
          2013,
          2014,
          2015,
          2016,
          2017,
          2013,
          2017,
          2018,
          2009,
          2010,
          2011,
          2018,
          2014,
          2017,
          2009,
          2016,
          2017,
          2018,
          2017,
          2014,
          2015,
          2016,
          2019,
          2019,
          2016,
          2012,
          2017,
          2011,
          2012,
          2017,
          2009,
          2010,
          2018,
          2019,
          2012,
          2013,
          2009,
          2010,
          2011,
          2012,
          2013,
          2014,
          2015,
          2016,
          2017,
          2018,
          2012,
          2013,
          2010,
          2011,
          2018,
          2019,
          2018,
          2019,
          2015,
          2010,
          2018,
          2013,
          2013,
          2011,
          2012,
          2009,
          2010,
          2011,
          2012,
          2013,
          2014,
          2015,
          2016,
          2017,
          2009,
          2010,
          2010,
          2011,
          2011,
          2011,
          2010,
          2011,
          2012,
          2013,
          2014,
          2015,
          2016,
          2017,
          2018,
          2019,
          2009,
          2009,
          2011,
          2012,
          2013,
          2015,
          2016,
          2017,
          2012,
          2010,
          2012,
          2019,
          2009,
          2014,
          2015,
          2011,
          2018,
          2019,
          2016,
          2010,
          2011,
          2009,
          2010,
          2011,
          2012,
          2013,
          2009,
          2013,
          2015,
          2016,
          2017,
          2018,
          2019,
          2010,
          2011,
          2012,
          2017,
          2018,
          2009,
          2011,
          2012,
          2015,
          2016,
          2017,
          2019,
          2009,
          2016,
          2019,
          2010,
          2011,
          2012,
          2013,
          2014,
          2016,
          2013,
          2015,
          2012,
          2018,
          2018,
          2012,
          2010,
          2017,
          2018,
          2019,
          2017,
          2009,
          2019,
          2019,
          2015,
          2016,
          2017,
          2015,
          2013,
          2011,
          2012,
          2012,
          2009,
          2010,
          2014,
          2015,
          2016,
          2017,
          2011,
          2017,
          2009,
          2010,
          2011,
          2012,
          2014,
          2014,
          2019,
          2019,
          2016,
          2017,
          2014,
          2011,
          2012,
          2013,
          2016,
          2018,
          2012,
          2010,
          2016,
          2017,
          2018,
          2019
         ],
         "xaxis": "x",
         "y": [
          4.7,
          4.7,
          4.8,
          4.7,
          4.6,
          4.6,
          4.6,
          4.5,
          4.6,
          4.4,
          4.5,
          4.8,
          4.6,
          4.6,
          4.7,
          4.2,
          4.6,
          4.6,
          4.8,
          4.7,
          4.8,
          4.8,
          4.8,
          4.7,
          4.7,
          4.7,
          4.5,
          4.6,
          4.8,
          4.5,
          4.7,
          4.7,
          4.7,
          4.7,
          4.8,
          4.8,
          4.8,
          4.4,
          4.6,
          4.6,
          4.5,
          4.5,
          4.6,
          4.6,
          4.6,
          4.5,
          4.5,
          4.3,
          4.5,
          4.5,
          4.7,
          4.7,
          4.7,
          4.4,
          4.2,
          4.7,
          4.7,
          4.7,
          4.7,
          4.7,
          4.4,
          4.4,
          4.5,
          4.6,
          4.6,
          4.6,
          4.6,
          4.6,
          4.6,
          4.6,
          4.5,
          4.5,
          4.5,
          4.5,
          4.6,
          4.8,
          4.9,
          4.8,
          4.7,
          4.8,
          4.7,
          4.7,
          4.4,
          4.4,
          4.8,
          4.7,
          4.7,
          4.7,
          4.7,
          4.7,
          4.3,
          4.8,
          4.8,
          4.9,
          4.7,
          4.8,
          4.4,
          4.4,
          4.4,
          4.8,
          4.9,
          4.9,
          4.9,
          4.9,
          4.9,
          4.9,
          4.6,
          4.5,
          4.6,
          4.7,
          4.7,
          4.6,
          4.6,
          4.8,
          4.8,
          4.5,
          4.5,
          4.5,
          4.6,
          4.6,
          4.6,
          4.6,
          4.6,
          4.5,
          4.5,
          4.4,
          4.8,
          4.5,
          4.2,
          4.8,
          4.5,
          4.7,
          4.8,
          4.7,
          4.7,
          4.7,
          4.4,
          4.6,
          4.6,
          4.6,
          4.8,
          4.8,
          4.7,
          4.6,
          4.9,
          4.6,
          4.6,
          4.5,
          4.6,
          4.6,
          4.7,
          4.7,
          4.3,
          4.3,
          4.5,
          4.5,
          4.5,
          4.5,
          4.5,
          4.5,
          4.5,
          4.5,
          4.5,
          4.5,
          4.6,
          4.6,
          4.7,
          4.7,
          4.8,
          4.8,
          4.8,
          4.8,
          4.7,
          4.7,
          4.8,
          4.1,
          4.6,
          4.6,
          4.6,
          4,
          4,
          4,
          4,
          4,
          4,
          4,
          4,
          4,
          4.5,
          4.6,
          4.4,
          4.4,
          4.3,
          4.3,
          4.7,
          4.7,
          4.7,
          4.7,
          4.7,
          4.8,
          4.8,
          4.8,
          4.8,
          4.8,
          4.8,
          4.6,
          4.6,
          4.6,
          4.6,
          4.7,
          4.7,
          4.7,
          4.6,
          4.7,
          4.2,
          4.8,
          4.7,
          4.8,
          4.8,
          4.7,
          4.3,
          4.3,
          4.8,
          4.4,
          4.1,
          4.6,
          4.6,
          4.6,
          4.6,
          4.6,
          4.6,
          4.7,
          4.7,
          4.7,
          4.7,
          4.7,
          4.7,
          4.7,
          4.7,
          4.7,
          4.3,
          4.3,
          4.7,
          4.4,
          4.4,
          4.5,
          4.5,
          4.5,
          4.5,
          4.8,
          4.9,
          4.6,
          4.4,
          4.4,
          4.4,
          4.4,
          4.4,
          4.3,
          4.8,
          4.8,
          4.8,
          4.5,
          4.4,
          4.6,
          4.6,
          4.6,
          4.6,
          4.6,
          4.7,
          4.4,
          4.7,
          4.7,
          4.6,
          4.6,
          4.6,
          4.7,
          4.7,
          4.6,
          4.6,
          4.5,
          4.3,
          4.3,
          4.6,
          4.6,
          4.6,
          4.6,
          4.3,
          4.6,
          4.5,
          4.8,
          4.8,
          4.8,
          4.8,
          4.8,
          4.9,
          4.8,
          4.7,
          4.6,
          4.7,
          4.4,
          4.4,
          4.4,
          4.8,
          4.6,
          4.4,
          4.2,
          4.7,
          4.7,
          4.7,
          4.7
         ],
         "yaxis": "y"
        },
        {
         "alignmentgroup": "True",
         "hovertemplate": "Genre=Fiction<br>Year=%{x}<br>User Rating=%{y}<extra></extra>",
         "legendgroup": "Fiction",
         "marker": {
          "color": "#EF553B",
          "pattern": {
           "shape": ""
          }
         },
         "name": "Fiction",
         "offsetgroup": "Fiction",
         "orientation": "v",
         "showlegend": true,
         "textposition": "auto",
         "type": "bar",
         "x": [
          2011,
          2017,
          2011,
          2014,
          2017,
          2016,
          2017,
          2018,
          2014,
          2015,
          2013,
          2013,
          2009,
          2017,
          2019,
          2011,
          2010,
          2011,
          2012,
          2018,
          2010,
          2011,
          2009,
          2010,
          2011,
          2015,
          2016,
          2017,
          2018,
          2013,
          2009,
          2014,
          2013,
          2014,
          2014,
          2013,
          2009,
          2018,
          2017,
          2018,
          2019,
          2019,
          2019,
          2018,
          2016,
          2009,
          2009,
          2016,
          2018,
          2016,
          2012,
          2012,
          2012,
          2013,
          2012,
          2014,
          2011,
          2012,
          2013,
          2015,
          2016,
          2017,
          2018,
          2019,
          2015,
          2011,
          2012,
          2013,
          2014,
          2017,
          2018,
          2019,
          2012,
          2013,
          2015,
          2016,
          2016,
          2019,
          2017,
          2016,
          2016,
          2009,
          2017,
          2019,
          2014,
          2013,
          2011,
          2014,
          2013,
          2018,
          2010,
          2014,
          2018,
          2014,
          2014,
          2015,
          2010,
          2011,
          2012,
          2009,
          2012,
          2013,
          2014,
          2015,
          2016,
          2017,
          2018,
          2019,
          2015,
          2009,
          2017,
          2014,
          2010,
          2017,
          2018,
          2019,
          2016,
          2017,
          2017,
          2018,
          2013,
          2014,
          2010,
          2009,
          2019,
          2013,
          2014,
          2010,
          2011,
          2014,
          2013,
          2014,
          2014,
          2015,
          2012,
          2010,
          2013,
          2014,
          2015,
          2009,
          2012,
          2013,
          2014,
          2014,
          2017,
          2015,
          2016,
          2010,
          2011,
          2010,
          2009,
          2009,
          2010,
          2016,
          2017,
          2013,
          2014,
          2012,
          2013,
          2014,
          2019,
          2009,
          2017,
          2012,
          2018,
          2009,
          2010,
          2011,
          2011,
          2013,
          2010,
          2011,
          2012,
          2011,
          2012,
          2009,
          2010,
          2013,
          2011,
          2010,
          2009,
          2012,
          2015,
          2014,
          2018,
          2015,
          2016,
          2011,
          2017,
          2018,
          2018,
          2012,
          2010,
          2012,
          2009,
          2017,
          2010,
          2019,
          2011,
          2012,
          2011,
          2009,
          2009,
          2010,
          2013,
          2014,
          2015,
          2016,
          2017,
          2018,
          2019,
          2016,
          2017,
          2018,
          2019,
          2018,
          2019,
          2017,
          2013,
          2014,
          2015,
          2016,
          2019,
          2010,
          2009,
          2014,
          2009,
          2009,
          2011,
          2015,
          2019,
          2019,
          2009,
          2012,
          2013,
          2014,
          2015,
          2016,
          2017,
          2019
         ],
         "xaxis": "x",
         "y": [
          4.6,
          4.7,
          4.4,
          4.7,
          4.7,
          4.6,
          4.6,
          4.5,
          4.6,
          4.6,
          3.9,
          4.3,
          4.6,
          4.9,
          4.9,
          4.8,
          4.7,
          4.7,
          4.7,
          4.3,
          4.6,
          4.6,
          4.6,
          4.3,
          4.2,
          4.8,
          4.8,
          4.8,
          4.8,
          4.8,
          4.8,
          4.8,
          4.6,
          4.6,
          4.5,
          4.7,
          4.8,
          4.9,
          4.9,
          4.9,
          4.9,
          4.9,
          4.9,
          4.9,
          4.8,
          4.7,
          4.7,
          4.6,
          4.6,
          4.7,
          4.4,
          4.5,
          3.8,
          3.8,
          4.5,
          4.7,
          4.6,
          4.6,
          4.6,
          4.8,
          4.8,
          4.8,
          4.8,
          4.8,
          3.6,
          4.8,
          4,
          4,
          4,
          4.8,
          4.8,
          4.8,
          4.9,
          4.9,
          4.4,
          4.9,
          4,
          4.9,
          4.9,
          4.9,
          4.8,
          4.6,
          4.8,
          4.8,
          4.3,
          4.1,
          4.6,
          4.6,
          4.5,
          4.9,
          4.1,
          4.9,
          4.5,
          4.5,
          4.8,
          4.8,
          4.5,
          4.5,
          4.5,
          4.6,
          4.9,
          4.9,
          4.9,
          4.9,
          4.9,
          4.9,
          4.9,
          4.9,
          4.8,
          4.2,
          4.3,
          4.6,
          4.8,
          4.8,
          4.8,
          4.8,
          4.7,
          4.8,
          4.6,
          4.6,
          4.9,
          4.9,
          4.6,
          4.7,
          4.9,
          4.5,
          4.7,
          4.7,
          4.7,
          4.8,
          4.6,
          4.6,
          4.8,
          4.8,
          3.3,
          4.3,
          4.8,
          4.8,
          4.8,
          4,
          4.7,
          4.7,
          4.7,
          4.7,
          4.8,
          4.1,
          4.1,
          4.7,
          4.7,
          4.7,
          4.7,
          4.4,
          4.4,
          4.8,
          4.8,
          3.9,
          3.9,
          4.4,
          4.4,
          4.4,
          4.5,
          4.7,
          4.3,
          4.6,
          4.8,
          4.8,
          4.8,
          4.8,
          4.8,
          4.8,
          4.7,
          4.7,
          4.7,
          4.8,
          4.8,
          4.8,
          4.8,
          4.9,
          4.4,
          4.8,
          4.2,
          4.8,
          4.7,
          4.5,
          4.8,
          4.8,
          4.8,
          4.3,
          4.8,
          4.8,
          4.3,
          4.3,
          4.6,
          4.8,
          4.6,
          4.6,
          4.6,
          4.5,
          4.8,
          4.7,
          4.7,
          4.4,
          4.7,
          4.8,
          4.9,
          4.9,
          4.9,
          4.9,
          4.9,
          4.9,
          4.9,
          4.9,
          4.9,
          4.9,
          4.9,
          4.8,
          4.8,
          4.5,
          4.8,
          4.8,
          4.8,
          4.8,
          4.8,
          4.8,
          4.7,
          4.5,
          4.3,
          4.8,
          4.5,
          4.7,
          4.8,
          4.8,
          4.8,
          4.5,
          4.8,
          4.8,
          4.8,
          4.8,
          4.8,
          4.9
         ],
         "yaxis": "y"
        }
       ],
       "layout": {
        "barmode": "group",
        "legend": {
         "title": {
          "text": "Genre"
         },
         "tracegroupgap": 0
        },
        "template": {
         "data": {
          "bar": [
           {
            "error_x": {
             "color": "#2a3f5f"
            },
            "error_y": {
             "color": "#2a3f5f"
            },
            "marker": {
             "line": {
              "color": "#E5ECF6",
              "width": 0.5
             },
             "pattern": {
              "fillmode": "overlay",
              "size": 10,
              "solidity": 0.2
             }
            },
            "type": "bar"
           }
          ],
          "barpolar": [
           {
            "marker": {
             "line": {
              "color": "#E5ECF6",
              "width": 0.5
             },
             "pattern": {
              "fillmode": "overlay",
              "size": 10,
              "solidity": 0.2
             }
            },
            "type": "barpolar"
           }
          ],
          "carpet": [
           {
            "aaxis": {
             "endlinecolor": "#2a3f5f",
             "gridcolor": "white",
             "linecolor": "white",
             "minorgridcolor": "white",
             "startlinecolor": "#2a3f5f"
            },
            "baxis": {
             "endlinecolor": "#2a3f5f",
             "gridcolor": "white",
             "linecolor": "white",
             "minorgridcolor": "white",
             "startlinecolor": "#2a3f5f"
            },
            "type": "carpet"
           }
          ],
          "choropleth": [
           {
            "colorbar": {
             "outlinewidth": 0,
             "ticks": ""
            },
            "type": "choropleth"
           }
          ],
          "contour": [
           {
            "colorbar": {
             "outlinewidth": 0,
             "ticks": ""
            },
            "colorscale": [
             [
              0,
              "#0d0887"
             ],
             [
              0.1111111111111111,
              "#46039f"
             ],
             [
              0.2222222222222222,
              "#7201a8"
             ],
             [
              0.3333333333333333,
              "#9c179e"
             ],
             [
              0.4444444444444444,
              "#bd3786"
             ],
             [
              0.5555555555555556,
              "#d8576b"
             ],
             [
              0.6666666666666666,
              "#ed7953"
             ],
             [
              0.7777777777777778,
              "#fb9f3a"
             ],
             [
              0.8888888888888888,
              "#fdca26"
             ],
             [
              1,
              "#f0f921"
             ]
            ],
            "type": "contour"
           }
          ],
          "contourcarpet": [
           {
            "colorbar": {
             "outlinewidth": 0,
             "ticks": ""
            },
            "type": "contourcarpet"
           }
          ],
          "heatmap": [
           {
            "colorbar": {
             "outlinewidth": 0,
             "ticks": ""
            },
            "colorscale": [
             [
              0,
              "#0d0887"
             ],
             [
              0.1111111111111111,
              "#46039f"
             ],
             [
              0.2222222222222222,
              "#7201a8"
             ],
             [
              0.3333333333333333,
              "#9c179e"
             ],
             [
              0.4444444444444444,
              "#bd3786"
             ],
             [
              0.5555555555555556,
              "#d8576b"
             ],
             [
              0.6666666666666666,
              "#ed7953"
             ],
             [
              0.7777777777777778,
              "#fb9f3a"
             ],
             [
              0.8888888888888888,
              "#fdca26"
             ],
             [
              1,
              "#f0f921"
             ]
            ],
            "type": "heatmap"
           }
          ],
          "heatmapgl": [
           {
            "colorbar": {
             "outlinewidth": 0,
             "ticks": ""
            },
            "colorscale": [
             [
              0,
              "#0d0887"
             ],
             [
              0.1111111111111111,
              "#46039f"
             ],
             [
              0.2222222222222222,
              "#7201a8"
             ],
             [
              0.3333333333333333,
              "#9c179e"
             ],
             [
              0.4444444444444444,
              "#bd3786"
             ],
             [
              0.5555555555555556,
              "#d8576b"
             ],
             [
              0.6666666666666666,
              "#ed7953"
             ],
             [
              0.7777777777777778,
              "#fb9f3a"
             ],
             [
              0.8888888888888888,
              "#fdca26"
             ],
             [
              1,
              "#f0f921"
             ]
            ],
            "type": "heatmapgl"
           }
          ],
          "histogram": [
           {
            "marker": {
             "pattern": {
              "fillmode": "overlay",
              "size": 10,
              "solidity": 0.2
             }
            },
            "type": "histogram"
           }
          ],
          "histogram2d": [
           {
            "colorbar": {
             "outlinewidth": 0,
             "ticks": ""
            },
            "colorscale": [
             [
              0,
              "#0d0887"
             ],
             [
              0.1111111111111111,
              "#46039f"
             ],
             [
              0.2222222222222222,
              "#7201a8"
             ],
             [
              0.3333333333333333,
              "#9c179e"
             ],
             [
              0.4444444444444444,
              "#bd3786"
             ],
             [
              0.5555555555555556,
              "#d8576b"
             ],
             [
              0.6666666666666666,
              "#ed7953"
             ],
             [
              0.7777777777777778,
              "#fb9f3a"
             ],
             [
              0.8888888888888888,
              "#fdca26"
             ],
             [
              1,
              "#f0f921"
             ]
            ],
            "type": "histogram2d"
           }
          ],
          "histogram2dcontour": [
           {
            "colorbar": {
             "outlinewidth": 0,
             "ticks": ""
            },
            "colorscale": [
             [
              0,
              "#0d0887"
             ],
             [
              0.1111111111111111,
              "#46039f"
             ],
             [
              0.2222222222222222,
              "#7201a8"
             ],
             [
              0.3333333333333333,
              "#9c179e"
             ],
             [
              0.4444444444444444,
              "#bd3786"
             ],
             [
              0.5555555555555556,
              "#d8576b"
             ],
             [
              0.6666666666666666,
              "#ed7953"
             ],
             [
              0.7777777777777778,
              "#fb9f3a"
             ],
             [
              0.8888888888888888,
              "#fdca26"
             ],
             [
              1,
              "#f0f921"
             ]
            ],
            "type": "histogram2dcontour"
           }
          ],
          "mesh3d": [
           {
            "colorbar": {
             "outlinewidth": 0,
             "ticks": ""
            },
            "type": "mesh3d"
           }
          ],
          "parcoords": [
           {
            "line": {
             "colorbar": {
              "outlinewidth": 0,
              "ticks": ""
             }
            },
            "type": "parcoords"
           }
          ],
          "pie": [
           {
            "automargin": true,
            "type": "pie"
           }
          ],
          "scatter": [
           {
            "marker": {
             "colorbar": {
              "outlinewidth": 0,
              "ticks": ""
             }
            },
            "type": "scatter"
           }
          ],
          "scatter3d": [
           {
            "line": {
             "colorbar": {
              "outlinewidth": 0,
              "ticks": ""
             }
            },
            "marker": {
             "colorbar": {
              "outlinewidth": 0,
              "ticks": ""
             }
            },
            "type": "scatter3d"
           }
          ],
          "scattercarpet": [
           {
            "marker": {
             "colorbar": {
              "outlinewidth": 0,
              "ticks": ""
             }
            },
            "type": "scattercarpet"
           }
          ],
          "scattergeo": [
           {
            "marker": {
             "colorbar": {
              "outlinewidth": 0,
              "ticks": ""
             }
            },
            "type": "scattergeo"
           }
          ],
          "scattergl": [
           {
            "marker": {
             "colorbar": {
              "outlinewidth": 0,
              "ticks": ""
             }
            },
            "type": "scattergl"
           }
          ],
          "scattermapbox": [
           {
            "marker": {
             "colorbar": {
              "outlinewidth": 0,
              "ticks": ""
             }
            },
            "type": "scattermapbox"
           }
          ],
          "scatterpolar": [
           {
            "marker": {
             "colorbar": {
              "outlinewidth": 0,
              "ticks": ""
             }
            },
            "type": "scatterpolar"
           }
          ],
          "scatterpolargl": [
           {
            "marker": {
             "colorbar": {
              "outlinewidth": 0,
              "ticks": ""
             }
            },
            "type": "scatterpolargl"
           }
          ],
          "scatterternary": [
           {
            "marker": {
             "colorbar": {
              "outlinewidth": 0,
              "ticks": ""
             }
            },
            "type": "scatterternary"
           }
          ],
          "surface": [
           {
            "colorbar": {
             "outlinewidth": 0,
             "ticks": ""
            },
            "colorscale": [
             [
              0,
              "#0d0887"
             ],
             [
              0.1111111111111111,
              "#46039f"
             ],
             [
              0.2222222222222222,
              "#7201a8"
             ],
             [
              0.3333333333333333,
              "#9c179e"
             ],
             [
              0.4444444444444444,
              "#bd3786"
             ],
             [
              0.5555555555555556,
              "#d8576b"
             ],
             [
              0.6666666666666666,
              "#ed7953"
             ],
             [
              0.7777777777777778,
              "#fb9f3a"
             ],
             [
              0.8888888888888888,
              "#fdca26"
             ],
             [
              1,
              "#f0f921"
             ]
            ],
            "type": "surface"
           }
          ],
          "table": [
           {
            "cells": {
             "fill": {
              "color": "#EBF0F8"
             },
             "line": {
              "color": "white"
             }
            },
            "header": {
             "fill": {
              "color": "#C8D4E3"
             },
             "line": {
              "color": "white"
             }
            },
            "type": "table"
           }
          ]
         },
         "layout": {
          "annotationdefaults": {
           "arrowcolor": "#2a3f5f",
           "arrowhead": 0,
           "arrowwidth": 1
          },
          "autotypenumbers": "strict",
          "coloraxis": {
           "colorbar": {
            "outlinewidth": 0,
            "ticks": ""
           }
          },
          "colorscale": {
           "diverging": [
            [
             0,
             "#8e0152"
            ],
            [
             0.1,
             "#c51b7d"
            ],
            [
             0.2,
             "#de77ae"
            ],
            [
             0.3,
             "#f1b6da"
            ],
            [
             0.4,
             "#fde0ef"
            ],
            [
             0.5,
             "#f7f7f7"
            ],
            [
             0.6,
             "#e6f5d0"
            ],
            [
             0.7,
             "#b8e186"
            ],
            [
             0.8,
             "#7fbc41"
            ],
            [
             0.9,
             "#4d9221"
            ],
            [
             1,
             "#276419"
            ]
           ],
           "sequential": [
            [
             0,
             "#0d0887"
            ],
            [
             0.1111111111111111,
             "#46039f"
            ],
            [
             0.2222222222222222,
             "#7201a8"
            ],
            [
             0.3333333333333333,
             "#9c179e"
            ],
            [
             0.4444444444444444,
             "#bd3786"
            ],
            [
             0.5555555555555556,
             "#d8576b"
            ],
            [
             0.6666666666666666,
             "#ed7953"
            ],
            [
             0.7777777777777778,
             "#fb9f3a"
            ],
            [
             0.8888888888888888,
             "#fdca26"
            ],
            [
             1,
             "#f0f921"
            ]
           ],
           "sequentialminus": [
            [
             0,
             "#0d0887"
            ],
            [
             0.1111111111111111,
             "#46039f"
            ],
            [
             0.2222222222222222,
             "#7201a8"
            ],
            [
             0.3333333333333333,
             "#9c179e"
            ],
            [
             0.4444444444444444,
             "#bd3786"
            ],
            [
             0.5555555555555556,
             "#d8576b"
            ],
            [
             0.6666666666666666,
             "#ed7953"
            ],
            [
             0.7777777777777778,
             "#fb9f3a"
            ],
            [
             0.8888888888888888,
             "#fdca26"
            ],
            [
             1,
             "#f0f921"
            ]
           ]
          },
          "colorway": [
           "#636efa",
           "#EF553B",
           "#00cc96",
           "#ab63fa",
           "#FFA15A",
           "#19d3f3",
           "#FF6692",
           "#B6E880",
           "#FF97FF",
           "#FECB52"
          ],
          "font": {
           "color": "#2a3f5f"
          },
          "geo": {
           "bgcolor": "white",
           "lakecolor": "white",
           "landcolor": "#E5ECF6",
           "showlakes": true,
           "showland": true,
           "subunitcolor": "white"
          },
          "hoverlabel": {
           "align": "left"
          },
          "hovermode": "closest",
          "mapbox": {
           "style": "light"
          },
          "paper_bgcolor": "white",
          "plot_bgcolor": "#E5ECF6",
          "polar": {
           "angularaxis": {
            "gridcolor": "white",
            "linecolor": "white",
            "ticks": ""
           },
           "bgcolor": "#E5ECF6",
           "radialaxis": {
            "gridcolor": "white",
            "linecolor": "white",
            "ticks": ""
           }
          },
          "scene": {
           "xaxis": {
            "backgroundcolor": "#E5ECF6",
            "gridcolor": "white",
            "gridwidth": 2,
            "linecolor": "white",
            "showbackground": true,
            "ticks": "",
            "zerolinecolor": "white"
           },
           "yaxis": {
            "backgroundcolor": "#E5ECF6",
            "gridcolor": "white",
            "gridwidth": 2,
            "linecolor": "white",
            "showbackground": true,
            "ticks": "",
            "zerolinecolor": "white"
           },
           "zaxis": {
            "backgroundcolor": "#E5ECF6",
            "gridcolor": "white",
            "gridwidth": 2,
            "linecolor": "white",
            "showbackground": true,
            "ticks": "",
            "zerolinecolor": "white"
           }
          },
          "shapedefaults": {
           "line": {
            "color": "#2a3f5f"
           }
          },
          "ternary": {
           "aaxis": {
            "gridcolor": "white",
            "linecolor": "white",
            "ticks": ""
           },
           "baxis": {
            "gridcolor": "white",
            "linecolor": "white",
            "ticks": ""
           },
           "bgcolor": "#E5ECF6",
           "caxis": {
            "gridcolor": "white",
            "linecolor": "white",
            "ticks": ""
           }
          },
          "title": {
           "x": 0.05
          },
          "xaxis": {
           "automargin": true,
           "gridcolor": "white",
           "linecolor": "white",
           "ticks": "",
           "title": {
            "standoff": 15
           },
           "zerolinecolor": "white",
           "zerolinewidth": 2
          },
          "yaxis": {
           "automargin": true,
           "gridcolor": "white",
           "linecolor": "white",
           "ticks": "",
           "title": {
            "standoff": 15
           },
           "zerolinecolor": "white",
           "zerolinewidth": 2
          }
         }
        },
        "title": {
         "text": "Ratings by year and Genre"
        },
        "xaxis": {
         "anchor": "y",
         "domain": [
          0,
          1
         ],
         "title": {
          "text": "Year"
         }
        },
        "yaxis": {
         "anchor": "x",
         "domain": [
          0,
          1
         ],
         "title": {
          "text": "User Rating"
         }
        }
       }
      },
      "text/html": [
       "<div>                            <div id=\"e8473fb3-8e31-405a-85eb-6e96cd533a64\" class=\"plotly-graph-div\" style=\"height:525px; width:100%;\"></div>            <script type=\"text/javascript\">                require([\"plotly\"], function(Plotly) {                    window.PLOTLYENV=window.PLOTLYENV || {};                                    if (document.getElementById(\"e8473fb3-8e31-405a-85eb-6e96cd533a64\")) {                    Plotly.newPlot(                        \"e8473fb3-8e31-405a-85eb-6e96cd533a64\",                        [{\"alignmentgroup\":\"True\",\"hovertemplate\":\"Genre=Non Fiction<br>Year=%{x}<br>User Rating=%{y}<extra></extra>\",\"legendgroup\":\"Non Fiction\",\"marker\":{\"color\":\"#636efa\",\"pattern\":{\"shape\":\"\"}},\"name\":\"Non Fiction\",\"offsetgroup\":\"Non Fiction\",\"orientation\":\"v\",\"showlegend\":true,\"textposition\":\"auto\",\"x\":[2016,2018,2019,2018,2010,2011,2009,2016,2015,2015,2015,2016,2015,2009,2017,2010,2015,2015,2012,2010,2018,2019,2015,2015,2016,2016,2010,2016,2019,2014,2016,2009,2010,2011,2015,2015,2013,2013,2010,2010,2013,2014,2019,2009,2015,2010,2009,2009,2011,2012,2018,2019,2015,2018,2018,2014,2015,2016,2017,2018,2010,2010,2010,2013,2019,2018,2019,2009,2009,2019,2009,2010,2011,2012,2014,2019,2016,2013,2015,2009,2011,2012,2016,2017,2018,2014,2015,2016,2017,2018,2019,2013,2014,2015,2013,2019,2011,2019,2018,2019,2011,2012,2013,2014,2015,2016,2017,2013,2012,2011,2012,2014,2015,2016,2018,2013,2014,2015,2013,2014,2015,2016,2017,2013,2017,2018,2009,2010,2011,2018,2014,2017,2009,2016,2017,2018,2017,2014,2015,2016,2019,2019,2016,2012,2017,2011,2012,2017,2009,2010,2018,2019,2012,2013,2009,2010,2011,2012,2013,2014,2015,2016,2017,2018,2012,2013,2010,2011,2018,2019,2018,2019,2015,2010,2018,2013,2013,2011,2012,2009,2010,2011,2012,2013,2014,2015,2016,2017,2009,2010,2010,2011,2011,2011,2010,2011,2012,2013,2014,2015,2016,2017,2018,2019,2009,2009,2011,2012,2013,2015,2016,2017,2012,2010,2012,2019,2009,2014,2015,2011,2018,2019,2016,2010,2011,2009,2010,2011,2012,2013,2009,2013,2015,2016,2017,2018,2019,2010,2011,2012,2017,2018,2009,2011,2012,2015,2016,2017,2019,2009,2016,2019,2010,2011,2012,2013,2014,2016,2013,2015,2012,2018,2018,2012,2010,2017,2018,2019,2017,2009,2019,2019,2015,2016,2017,2015,2013,2011,2012,2012,2009,2010,2014,2015,2016,2017,2011,2017,2009,2010,2011,2012,2014,2014,2019,2019,2016,2017,2014,2011,2012,2013,2016,2018,2012,2010,2016,2017,2018,2019],\"xaxis\":\"x\",\"y\":[4.7,4.7,4.8,4.7,4.6,4.6,4.6,4.5,4.6,4.4,4.5,4.8,4.6,4.6,4.7,4.2,4.6,4.6,4.8,4.7,4.8,4.8,4.8,4.7,4.7,4.7,4.5,4.6,4.8,4.5,4.7,4.7,4.7,4.7,4.8,4.8,4.8,4.4,4.6,4.6,4.5,4.5,4.6,4.6,4.6,4.5,4.5,4.3,4.5,4.5,4.7,4.7,4.7,4.4,4.2,4.7,4.7,4.7,4.7,4.7,4.4,4.4,4.5,4.6,4.6,4.6,4.6,4.6,4.6,4.6,4.5,4.5,4.5,4.5,4.6,4.8,4.9,4.8,4.7,4.8,4.7,4.7,4.4,4.4,4.8,4.7,4.7,4.7,4.7,4.7,4.3,4.8,4.8,4.9,4.7,4.8,4.4,4.4,4.4,4.8,4.9,4.9,4.9,4.9,4.9,4.9,4.6,4.5,4.6,4.7,4.7,4.6,4.6,4.8,4.8,4.5,4.5,4.5,4.6,4.6,4.6,4.6,4.6,4.5,4.5,4.4,4.8,4.5,4.2,4.8,4.5,4.7,4.8,4.7,4.7,4.7,4.4,4.6,4.6,4.6,4.8,4.8,4.7,4.6,4.9,4.6,4.6,4.5,4.6,4.6,4.7,4.7,4.3,4.3,4.5,4.5,4.5,4.5,4.5,4.5,4.5,4.5,4.5,4.5,4.6,4.6,4.7,4.7,4.8,4.8,4.8,4.8,4.7,4.7,4.8,4.1,4.6,4.6,4.6,4.0,4.0,4.0,4.0,4.0,4.0,4.0,4.0,4.0,4.5,4.6,4.4,4.4,4.3,4.3,4.7,4.7,4.7,4.7,4.7,4.8,4.8,4.8,4.8,4.8,4.8,4.6,4.6,4.6,4.6,4.7,4.7,4.7,4.6,4.7,4.2,4.8,4.7,4.8,4.8,4.7,4.3,4.3,4.8,4.4,4.1,4.6,4.6,4.6,4.6,4.6,4.6,4.7,4.7,4.7,4.7,4.7,4.7,4.7,4.7,4.7,4.3,4.3,4.7,4.4,4.4,4.5,4.5,4.5,4.5,4.8,4.9,4.6,4.4,4.4,4.4,4.4,4.4,4.3,4.8,4.8,4.8,4.5,4.4,4.6,4.6,4.6,4.6,4.6,4.7,4.4,4.7,4.7,4.6,4.6,4.6,4.7,4.7,4.6,4.6,4.5,4.3,4.3,4.6,4.6,4.6,4.6,4.3,4.6,4.5,4.8,4.8,4.8,4.8,4.8,4.9,4.8,4.7,4.6,4.7,4.4,4.4,4.4,4.8,4.6,4.4,4.2,4.7,4.7,4.7,4.7],\"yaxis\":\"y\",\"type\":\"bar\"},{\"alignmentgroup\":\"True\",\"hovertemplate\":\"Genre=Fiction<br>Year=%{x}<br>User Rating=%{y}<extra></extra>\",\"legendgroup\":\"Fiction\",\"marker\":{\"color\":\"#EF553B\",\"pattern\":{\"shape\":\"\"}},\"name\":\"Fiction\",\"offsetgroup\":\"Fiction\",\"orientation\":\"v\",\"showlegend\":true,\"textposition\":\"auto\",\"x\":[2011,2017,2011,2014,2017,2016,2017,2018,2014,2015,2013,2013,2009,2017,2019,2011,2010,2011,2012,2018,2010,2011,2009,2010,2011,2015,2016,2017,2018,2013,2009,2014,2013,2014,2014,2013,2009,2018,2017,2018,2019,2019,2019,2018,2016,2009,2009,2016,2018,2016,2012,2012,2012,2013,2012,2014,2011,2012,2013,2015,2016,2017,2018,2019,2015,2011,2012,2013,2014,2017,2018,2019,2012,2013,2015,2016,2016,2019,2017,2016,2016,2009,2017,2019,2014,2013,2011,2014,2013,2018,2010,2014,2018,2014,2014,2015,2010,2011,2012,2009,2012,2013,2014,2015,2016,2017,2018,2019,2015,2009,2017,2014,2010,2017,2018,2019,2016,2017,2017,2018,2013,2014,2010,2009,2019,2013,2014,2010,2011,2014,2013,2014,2014,2015,2012,2010,2013,2014,2015,2009,2012,2013,2014,2014,2017,2015,2016,2010,2011,2010,2009,2009,2010,2016,2017,2013,2014,2012,2013,2014,2019,2009,2017,2012,2018,2009,2010,2011,2011,2013,2010,2011,2012,2011,2012,2009,2010,2013,2011,2010,2009,2012,2015,2014,2018,2015,2016,2011,2017,2018,2018,2012,2010,2012,2009,2017,2010,2019,2011,2012,2011,2009,2009,2010,2013,2014,2015,2016,2017,2018,2019,2016,2017,2018,2019,2018,2019,2017,2013,2014,2015,2016,2019,2010,2009,2014,2009,2009,2011,2015,2019,2019,2009,2012,2013,2014,2015,2016,2017,2019],\"xaxis\":\"x\",\"y\":[4.6,4.7,4.4,4.7,4.7,4.6,4.6,4.5,4.6,4.6,3.9,4.3,4.6,4.9,4.9,4.8,4.7,4.7,4.7,4.3,4.6,4.6,4.6,4.3,4.2,4.8,4.8,4.8,4.8,4.8,4.8,4.8,4.6,4.6,4.5,4.7,4.8,4.9,4.9,4.9,4.9,4.9,4.9,4.9,4.8,4.7,4.7,4.6,4.6,4.7,4.4,4.5,3.8,3.8,4.5,4.7,4.6,4.6,4.6,4.8,4.8,4.8,4.8,4.8,3.6,4.8,4.0,4.0,4.0,4.8,4.8,4.8,4.9,4.9,4.4,4.9,4.0,4.9,4.9,4.9,4.8,4.6,4.8,4.8,4.3,4.1,4.6,4.6,4.5,4.9,4.1,4.9,4.5,4.5,4.8,4.8,4.5,4.5,4.5,4.6,4.9,4.9,4.9,4.9,4.9,4.9,4.9,4.9,4.8,4.2,4.3,4.6,4.8,4.8,4.8,4.8,4.7,4.8,4.6,4.6,4.9,4.9,4.6,4.7,4.9,4.5,4.7,4.7,4.7,4.8,4.6,4.6,4.8,4.8,3.3,4.3,4.8,4.8,4.8,4.0,4.7,4.7,4.7,4.7,4.8,4.1,4.1,4.7,4.7,4.7,4.7,4.4,4.4,4.8,4.8,3.9,3.9,4.4,4.4,4.4,4.5,4.7,4.3,4.6,4.8,4.8,4.8,4.8,4.8,4.8,4.7,4.7,4.7,4.8,4.8,4.8,4.8,4.9,4.4,4.8,4.2,4.8,4.7,4.5,4.8,4.8,4.8,4.3,4.8,4.8,4.3,4.3,4.6,4.8,4.6,4.6,4.6,4.5,4.8,4.7,4.7,4.4,4.7,4.8,4.9,4.9,4.9,4.9,4.9,4.9,4.9,4.9,4.9,4.9,4.9,4.8,4.8,4.5,4.8,4.8,4.8,4.8,4.8,4.8,4.7,4.5,4.3,4.8,4.5,4.7,4.8,4.8,4.8,4.5,4.8,4.8,4.8,4.8,4.8,4.9],\"yaxis\":\"y\",\"type\":\"bar\"}],                        {\"template\":{\"data\":{\"bar\":[{\"error_x\":{\"color\":\"#2a3f5f\"},\"error_y\":{\"color\":\"#2a3f5f\"},\"marker\":{\"line\":{\"color\":\"#E5ECF6\",\"width\":0.5},\"pattern\":{\"fillmode\":\"overlay\",\"size\":10,\"solidity\":0.2}},\"type\":\"bar\"}],\"barpolar\":[{\"marker\":{\"line\":{\"color\":\"#E5ECF6\",\"width\":0.5},\"pattern\":{\"fillmode\":\"overlay\",\"size\":10,\"solidity\":0.2}},\"type\":\"barpolar\"}],\"carpet\":[{\"aaxis\":{\"endlinecolor\":\"#2a3f5f\",\"gridcolor\":\"white\",\"linecolor\":\"white\",\"minorgridcolor\":\"white\",\"startlinecolor\":\"#2a3f5f\"},\"baxis\":{\"endlinecolor\":\"#2a3f5f\",\"gridcolor\":\"white\",\"linecolor\":\"white\",\"minorgridcolor\":\"white\",\"startlinecolor\":\"#2a3f5f\"},\"type\":\"carpet\"}],\"choropleth\":[{\"colorbar\":{\"outlinewidth\":0,\"ticks\":\"\"},\"type\":\"choropleth\"}],\"contour\":[{\"colorbar\":{\"outlinewidth\":0,\"ticks\":\"\"},\"colorscale\":[[0.0,\"#0d0887\"],[0.1111111111111111,\"#46039f\"],[0.2222222222222222,\"#7201a8\"],[0.3333333333333333,\"#9c179e\"],[0.4444444444444444,\"#bd3786\"],[0.5555555555555556,\"#d8576b\"],[0.6666666666666666,\"#ed7953\"],[0.7777777777777778,\"#fb9f3a\"],[0.8888888888888888,\"#fdca26\"],[1.0,\"#f0f921\"]],\"type\":\"contour\"}],\"contourcarpet\":[{\"colorbar\":{\"outlinewidth\":0,\"ticks\":\"\"},\"type\":\"contourcarpet\"}],\"heatmap\":[{\"colorbar\":{\"outlinewidth\":0,\"ticks\":\"\"},\"colorscale\":[[0.0,\"#0d0887\"],[0.1111111111111111,\"#46039f\"],[0.2222222222222222,\"#7201a8\"],[0.3333333333333333,\"#9c179e\"],[0.4444444444444444,\"#bd3786\"],[0.5555555555555556,\"#d8576b\"],[0.6666666666666666,\"#ed7953\"],[0.7777777777777778,\"#fb9f3a\"],[0.8888888888888888,\"#fdca26\"],[1.0,\"#f0f921\"]],\"type\":\"heatmap\"}],\"heatmapgl\":[{\"colorbar\":{\"outlinewidth\":0,\"ticks\":\"\"},\"colorscale\":[[0.0,\"#0d0887\"],[0.1111111111111111,\"#46039f\"],[0.2222222222222222,\"#7201a8\"],[0.3333333333333333,\"#9c179e\"],[0.4444444444444444,\"#bd3786\"],[0.5555555555555556,\"#d8576b\"],[0.6666666666666666,\"#ed7953\"],[0.7777777777777778,\"#fb9f3a\"],[0.8888888888888888,\"#fdca26\"],[1.0,\"#f0f921\"]],\"type\":\"heatmapgl\"}],\"histogram\":[{\"marker\":{\"pattern\":{\"fillmode\":\"overlay\",\"size\":10,\"solidity\":0.2}},\"type\":\"histogram\"}],\"histogram2d\":[{\"colorbar\":{\"outlinewidth\":0,\"ticks\":\"\"},\"colorscale\":[[0.0,\"#0d0887\"],[0.1111111111111111,\"#46039f\"],[0.2222222222222222,\"#7201a8\"],[0.3333333333333333,\"#9c179e\"],[0.4444444444444444,\"#bd3786\"],[0.5555555555555556,\"#d8576b\"],[0.6666666666666666,\"#ed7953\"],[0.7777777777777778,\"#fb9f3a\"],[0.8888888888888888,\"#fdca26\"],[1.0,\"#f0f921\"]],\"type\":\"histogram2d\"}],\"histogram2dcontour\":[{\"colorbar\":{\"outlinewidth\":0,\"ticks\":\"\"},\"colorscale\":[[0.0,\"#0d0887\"],[0.1111111111111111,\"#46039f\"],[0.2222222222222222,\"#7201a8\"],[0.3333333333333333,\"#9c179e\"],[0.4444444444444444,\"#bd3786\"],[0.5555555555555556,\"#d8576b\"],[0.6666666666666666,\"#ed7953\"],[0.7777777777777778,\"#fb9f3a\"],[0.8888888888888888,\"#fdca26\"],[1.0,\"#f0f921\"]],\"type\":\"histogram2dcontour\"}],\"mesh3d\":[{\"colorbar\":{\"outlinewidth\":0,\"ticks\":\"\"},\"type\":\"mesh3d\"}],\"parcoords\":[{\"line\":{\"colorbar\":{\"outlinewidth\":0,\"ticks\":\"\"}},\"type\":\"parcoords\"}],\"pie\":[{\"automargin\":true,\"type\":\"pie\"}],\"scatter\":[{\"marker\":{\"colorbar\":{\"outlinewidth\":0,\"ticks\":\"\"}},\"type\":\"scatter\"}],\"scatter3d\":[{\"line\":{\"colorbar\":{\"outlinewidth\":0,\"ticks\":\"\"}},\"marker\":{\"colorbar\":{\"outlinewidth\":0,\"ticks\":\"\"}},\"type\":\"scatter3d\"}],\"scattercarpet\":[{\"marker\":{\"colorbar\":{\"outlinewidth\":0,\"ticks\":\"\"}},\"type\":\"scattercarpet\"}],\"scattergeo\":[{\"marker\":{\"colorbar\":{\"outlinewidth\":0,\"ticks\":\"\"}},\"type\":\"scattergeo\"}],\"scattergl\":[{\"marker\":{\"colorbar\":{\"outlinewidth\":0,\"ticks\":\"\"}},\"type\":\"scattergl\"}],\"scattermapbox\":[{\"marker\":{\"colorbar\":{\"outlinewidth\":0,\"ticks\":\"\"}},\"type\":\"scattermapbox\"}],\"scatterpolar\":[{\"marker\":{\"colorbar\":{\"outlinewidth\":0,\"ticks\":\"\"}},\"type\":\"scatterpolar\"}],\"scatterpolargl\":[{\"marker\":{\"colorbar\":{\"outlinewidth\":0,\"ticks\":\"\"}},\"type\":\"scatterpolargl\"}],\"scatterternary\":[{\"marker\":{\"colorbar\":{\"outlinewidth\":0,\"ticks\":\"\"}},\"type\":\"scatterternary\"}],\"surface\":[{\"colorbar\":{\"outlinewidth\":0,\"ticks\":\"\"},\"colorscale\":[[0.0,\"#0d0887\"],[0.1111111111111111,\"#46039f\"],[0.2222222222222222,\"#7201a8\"],[0.3333333333333333,\"#9c179e\"],[0.4444444444444444,\"#bd3786\"],[0.5555555555555556,\"#d8576b\"],[0.6666666666666666,\"#ed7953\"],[0.7777777777777778,\"#fb9f3a\"],[0.8888888888888888,\"#fdca26\"],[1.0,\"#f0f921\"]],\"type\":\"surface\"}],\"table\":[{\"cells\":{\"fill\":{\"color\":\"#EBF0F8\"},\"line\":{\"color\":\"white\"}},\"header\":{\"fill\":{\"color\":\"#C8D4E3\"},\"line\":{\"color\":\"white\"}},\"type\":\"table\"}]},\"layout\":{\"annotationdefaults\":{\"arrowcolor\":\"#2a3f5f\",\"arrowhead\":0,\"arrowwidth\":1},\"autotypenumbers\":\"strict\",\"coloraxis\":{\"colorbar\":{\"outlinewidth\":0,\"ticks\":\"\"}},\"colorscale\":{\"diverging\":[[0,\"#8e0152\"],[0.1,\"#c51b7d\"],[0.2,\"#de77ae\"],[0.3,\"#f1b6da\"],[0.4,\"#fde0ef\"],[0.5,\"#f7f7f7\"],[0.6,\"#e6f5d0\"],[0.7,\"#b8e186\"],[0.8,\"#7fbc41\"],[0.9,\"#4d9221\"],[1,\"#276419\"]],\"sequential\":[[0.0,\"#0d0887\"],[0.1111111111111111,\"#46039f\"],[0.2222222222222222,\"#7201a8\"],[0.3333333333333333,\"#9c179e\"],[0.4444444444444444,\"#bd3786\"],[0.5555555555555556,\"#d8576b\"],[0.6666666666666666,\"#ed7953\"],[0.7777777777777778,\"#fb9f3a\"],[0.8888888888888888,\"#fdca26\"],[1.0,\"#f0f921\"]],\"sequentialminus\":[[0.0,\"#0d0887\"],[0.1111111111111111,\"#46039f\"],[0.2222222222222222,\"#7201a8\"],[0.3333333333333333,\"#9c179e\"],[0.4444444444444444,\"#bd3786\"],[0.5555555555555556,\"#d8576b\"],[0.6666666666666666,\"#ed7953\"],[0.7777777777777778,\"#fb9f3a\"],[0.8888888888888888,\"#fdca26\"],[1.0,\"#f0f921\"]]},\"colorway\":[\"#636efa\",\"#EF553B\",\"#00cc96\",\"#ab63fa\",\"#FFA15A\",\"#19d3f3\",\"#FF6692\",\"#B6E880\",\"#FF97FF\",\"#FECB52\"],\"font\":{\"color\":\"#2a3f5f\"},\"geo\":{\"bgcolor\":\"white\",\"lakecolor\":\"white\",\"landcolor\":\"#E5ECF6\",\"showlakes\":true,\"showland\":true,\"subunitcolor\":\"white\"},\"hoverlabel\":{\"align\":\"left\"},\"hovermode\":\"closest\",\"mapbox\":{\"style\":\"light\"},\"paper_bgcolor\":\"white\",\"plot_bgcolor\":\"#E5ECF6\",\"polar\":{\"angularaxis\":{\"gridcolor\":\"white\",\"linecolor\":\"white\",\"ticks\":\"\"},\"bgcolor\":\"#E5ECF6\",\"radialaxis\":{\"gridcolor\":\"white\",\"linecolor\":\"white\",\"ticks\":\"\"}},\"scene\":{\"xaxis\":{\"backgroundcolor\":\"#E5ECF6\",\"gridcolor\":\"white\",\"gridwidth\":2,\"linecolor\":\"white\",\"showbackground\":true,\"ticks\":\"\",\"zerolinecolor\":\"white\"},\"yaxis\":{\"backgroundcolor\":\"#E5ECF6\",\"gridcolor\":\"white\",\"gridwidth\":2,\"linecolor\":\"white\",\"showbackground\":true,\"ticks\":\"\",\"zerolinecolor\":\"white\"},\"zaxis\":{\"backgroundcolor\":\"#E5ECF6\",\"gridcolor\":\"white\",\"gridwidth\":2,\"linecolor\":\"white\",\"showbackground\":true,\"ticks\":\"\",\"zerolinecolor\":\"white\"}},\"shapedefaults\":{\"line\":{\"color\":\"#2a3f5f\"}},\"ternary\":{\"aaxis\":{\"gridcolor\":\"white\",\"linecolor\":\"white\",\"ticks\":\"\"},\"baxis\":{\"gridcolor\":\"white\",\"linecolor\":\"white\",\"ticks\":\"\"},\"bgcolor\":\"#E5ECF6\",\"caxis\":{\"gridcolor\":\"white\",\"linecolor\":\"white\",\"ticks\":\"\"}},\"title\":{\"x\":0.05},\"xaxis\":{\"automargin\":true,\"gridcolor\":\"white\",\"linecolor\":\"white\",\"ticks\":\"\",\"title\":{\"standoff\":15},\"zerolinecolor\":\"white\",\"zerolinewidth\":2},\"yaxis\":{\"automargin\":true,\"gridcolor\":\"white\",\"linecolor\":\"white\",\"ticks\":\"\",\"title\":{\"standoff\":15},\"zerolinecolor\":\"white\",\"zerolinewidth\":2}}},\"xaxis\":{\"anchor\":\"y\",\"domain\":[0.0,1.0],\"title\":{\"text\":\"Year\"}},\"yaxis\":{\"anchor\":\"x\",\"domain\":[0.0,1.0],\"title\":{\"text\":\"User Rating\"}},\"legend\":{\"title\":{\"text\":\"Genre\"},\"tracegroupgap\":0},\"title\":{\"text\":\"Ratings by year and Genre\"},\"barmode\":\"group\"},                        {\"responsive\": true}                    ).then(function(){\n",
       "                            \n",
       "var gd = document.getElementById('e8473fb3-8e31-405a-85eb-6e96cd533a64');\n",
       "var x = new MutationObserver(function (mutations, observer) {{\n",
       "        var display = window.getComputedStyle(gd).display;\n",
       "        if (!display || display === 'none') {{\n",
       "            console.log([gd, 'removed!']);\n",
       "            Plotly.purge(gd);\n",
       "            observer.disconnect();\n",
       "        }}\n",
       "}});\n",
       "\n",
       "// Listen for the removal of the full notebook cells\n",
       "var notebookContainer = gd.closest('#notebook-container');\n",
       "if (notebookContainer) {{\n",
       "    x.observe(notebookContainer, {childList: true});\n",
       "}}\n",
       "\n",
       "// Listen for the clearing of the current output cell\n",
       "var outputEl = gd.closest('.output');\n",
       "if (outputEl) {{\n",
       "    x.observe(outputEl, {childList: true});\n",
       "}}\n",
       "\n",
       "                        })                };                });            </script>        </div>"
      ]
     },
     "metadata": {},
     "output_type": "display_data"
    }
   ],
   "source": [
    "# User rating by year \n",
    "px.bar(data,x='Year',y='User Rating', barmode='group', color='Genre' ,title='Ratings by year and Genre')"
   ]
  },
  {
   "cell_type": "markdown",
   "id": "ee77d7b6",
   "metadata": {},
   "source": [
    "Except in the year 2014 the Non-Fiction genre has outperformed Fiction movies."
   ]
  },
  {
   "cell_type": "code",
   "execution_count": 20,
   "id": "95063381",
   "metadata": {},
   "outputs": [
    {
     "data": {
      "text/html": [
       "<div>\n",
       "<style scoped>\n",
       "    .dataframe tbody tr th:only-of-type {\n",
       "        vertical-align: middle;\n",
       "    }\n",
       "\n",
       "    .dataframe tbody tr th {\n",
       "        vertical-align: top;\n",
       "    }\n",
       "\n",
       "    .dataframe thead th {\n",
       "        text-align: right;\n",
       "    }\n",
       "</style>\n",
       "<table border=\"1\" class=\"dataframe\">\n",
       "  <thead>\n",
       "    <tr style=\"text-align: right;\">\n",
       "      <th></th>\n",
       "      <th></th>\n",
       "      <th></th>\n",
       "      <th>User Rating</th>\n",
       "    </tr>\n",
       "    <tr>\n",
       "      <th>Author</th>\n",
       "      <th>Name</th>\n",
       "      <th>Genre</th>\n",
       "      <th></th>\n",
       "    </tr>\n",
       "  </thead>\n",
       "  <tbody>\n",
       "    <tr>\n",
       "      <th>J. K. Rowling</th>\n",
       "      <th>Harry Potter and the Goblet of Fire: The Illustrated Edition (Harry Potter, Book 4) (4)</th>\n",
       "      <th>Fiction</th>\n",
       "      <td>4.9</td>\n",
       "    </tr>\n",
       "    <tr>\n",
       "      <th>Dav Pilkey</th>\n",
       "      <th>Dog Man: A Tale of Two Kitties: From the Creator of Captain Underpants (Dog Man #3)</th>\n",
       "      <th>Fiction</th>\n",
       "      <td>4.9</td>\n",
       "    </tr>\n",
       "    <tr>\n",
       "      <th>J.K. Rowling</th>\n",
       "      <th>Harry Potter and the Sorcerer's Stone: The Illustrated Edition (Harry Potter, Book 1)</th>\n",
       "      <th>Fiction</th>\n",
       "      <td>4.9</td>\n",
       "    </tr>\n",
       "    <tr>\n",
       "      <th>Brandon Stanton</th>\n",
       "      <th>Humans of New York : Stories</th>\n",
       "      <th>Non Fiction</th>\n",
       "      <td>4.9</td>\n",
       "    </tr>\n",
       "    <tr>\n",
       "      <th>J.K. Rowling</th>\n",
       "      <th>Harry Potter and the Prisoner of Azkaban: The Illustrated Edition (Harry Potter, Book 3)</th>\n",
       "      <th>Fiction</th>\n",
       "      <td>4.9</td>\n",
       "    </tr>\n",
       "    <tr>\n",
       "      <th>Bill Martin Jr.</th>\n",
       "      <th>Brown Bear, Brown Bear, What Do You See?</th>\n",
       "      <th>Fiction</th>\n",
       "      <td>4.9</td>\n",
       "    </tr>\n",
       "    <tr>\n",
       "      <th>Emily Winfield Martin</th>\n",
       "      <th>The Wonderful Things You Will Be</th>\n",
       "      <th>Fiction</th>\n",
       "      <td>4.9</td>\n",
       "    </tr>\n",
       "    <tr>\n",
       "      <th>J.K. Rowling</th>\n",
       "      <th>Harry Potter and the Chamber of Secrets: The Illustrated Edition (Harry Potter, Book 2)</th>\n",
       "      <th>Fiction</th>\n",
       "      <td>4.9</td>\n",
       "    </tr>\n",
       "    <tr>\n",
       "      <th>Rush Limbaugh</th>\n",
       "      <th>Rush Revere and the Brave Pilgrims: Time-Travel Adventures with Exceptional Americans (1)</th>\n",
       "      <th>Fiction</th>\n",
       "      <td>4.9</td>\n",
       "    </tr>\n",
       "    <tr>\n",
       "      <th>Jeff Kinney</th>\n",
       "      <th>Wrecking Ball (Diary of a Wimpy Kid Book 14)</th>\n",
       "      <th>Fiction</th>\n",
       "      <td>4.9</td>\n",
       "    </tr>\n",
       "  </tbody>\n",
       "</table>\n",
       "</div>"
      ],
      "text/plain": [
       "                                                                                      User Rating\n",
       "Author                Name                                               Genre                   \n",
       "J. K. Rowling         Harry Potter and the Goblet of Fire: The Illust... Fiction              4.9\n",
       "Dav Pilkey            Dog Man: A Tale of Two Kitties: From the Creato... Fiction              4.9\n",
       "J.K. Rowling          Harry Potter and the Sorcerer's Stone: The Illu... Fiction              4.9\n",
       "Brandon Stanton       Humans of New York : Stories                       Non Fiction          4.9\n",
       "J.K. Rowling          Harry Potter and the Prisoner of Azkaban: The I... Fiction              4.9\n",
       "Bill Martin Jr.       Brown Bear, Brown Bear, What Do You See?           Fiction              4.9\n",
       "Emily Winfield Martin The Wonderful Things You Will Be                   Fiction              4.9\n",
       "J.K. Rowling          Harry Potter and the Chamber of Secrets: The Il... Fiction              4.9\n",
       "Rush Limbaugh         Rush Revere and the Brave Pilgrims: Time-Travel... Fiction              4.9\n",
       "Jeff Kinney           Wrecking Ball (Diary of a Wimpy Kid Book 14)       Fiction              4.9"
      ]
     },
     "execution_count": 20,
     "metadata": {},
     "output_type": "execute_result"
    }
   ],
   "source": [
    "# Let's see the top 10 ratings with few of its features\n",
    "data[['Name','Author','User Rating','Genre']].groupby(by=['Author','Name','Genre']).mean().sort_values(by=['User Rating'],ascending=False).head(10)"
   ]
  },
  {
   "cell_type": "markdown",
   "id": "064c2530",
   "metadata": {},
   "source": [
    "Surprisingly out of the top 10 Rated books 9 are from fiction genre and only 1 belongs to Non Fiction category"
   ]
  },
  {
   "cell_type": "code",
   "execution_count": 61,
   "id": "67c71ecc",
   "metadata": {},
   "outputs": [
    {
     "data": {
      "text/html": [
       "<div>\n",
       "<style scoped>\n",
       "    .dataframe tbody tr th:only-of-type {\n",
       "        vertical-align: middle;\n",
       "    }\n",
       "\n",
       "    .dataframe tbody tr th {\n",
       "        vertical-align: top;\n",
       "    }\n",
       "\n",
       "    .dataframe thead th {\n",
       "        text-align: right;\n",
       "    }\n",
       "</style>\n",
       "<table border=\"1\" class=\"dataframe\">\n",
       "  <thead>\n",
       "    <tr style=\"text-align: right;\">\n",
       "      <th></th>\n",
       "      <th>User Rating</th>\n",
       "    </tr>\n",
       "    <tr>\n",
       "      <th>Author</th>\n",
       "      <th></th>\n",
       "    </tr>\n",
       "  </thead>\n",
       "  <tbody>\n",
       "    <tr>\n",
       "      <th>Jill Twiss</th>\n",
       "      <td>4.9</td>\n",
       "    </tr>\n",
       "    <tr>\n",
       "      <th>Nathan W. Pyle</th>\n",
       "      <td>4.9</td>\n",
       "    </tr>\n",
       "    <tr>\n",
       "      <th>Chip Gaines</th>\n",
       "      <td>4.9</td>\n",
       "    </tr>\n",
       "    <tr>\n",
       "      <th>Rush Limbaugh</th>\n",
       "      <td>4.9</td>\n",
       "    </tr>\n",
       "    <tr>\n",
       "      <th>Bill Martin Jr.</th>\n",
       "      <td>4.9</td>\n",
       "    </tr>\n",
       "    <tr>\n",
       "      <th>Emily Winfield Martin</th>\n",
       "      <td>4.9</td>\n",
       "    </tr>\n",
       "    <tr>\n",
       "      <th>Pete Souza</th>\n",
       "      <td>4.9</td>\n",
       "    </tr>\n",
       "    <tr>\n",
       "      <th>Patrick Thorpe</th>\n",
       "      <td>4.9</td>\n",
       "    </tr>\n",
       "    <tr>\n",
       "      <th>Lin-Manuel Miranda</th>\n",
       "      <td>4.9</td>\n",
       "    </tr>\n",
       "    <tr>\n",
       "      <th>Sherri Duskey Rinker</th>\n",
       "      <td>4.9</td>\n",
       "    </tr>\n",
       "  </tbody>\n",
       "</table>\n",
       "</div>"
      ],
      "text/plain": [
       "                       User Rating\n",
       "Author                            \n",
       "Jill Twiss                     4.9\n",
       "Nathan W. Pyle                 4.9\n",
       "Chip Gaines                    4.9\n",
       "Rush Limbaugh                  4.9\n",
       "Bill Martin Jr.                4.9\n",
       "Emily Winfield Martin          4.9\n",
       "Pete Souza                     4.9\n",
       "Patrick Thorpe                 4.9\n",
       "Lin-Manuel Miranda             4.9\n",
       "Sherri Duskey Rinker           4.9"
      ]
     },
     "execution_count": 61,
     "metadata": {},
     "output_type": "execute_result"
    }
   ],
   "source": [
    "# Top authors\n",
    "data[['Author','User Rating']].groupby('Author').mean().sort_values(by='User Rating',ascending=False).head(10)"
   ]
  },
  {
   "cell_type": "code",
   "execution_count": 81,
   "id": "3020d16e",
   "metadata": {},
   "outputs": [
    {
     "data": {
      "text/html": [
       "<div>\n",
       "<style scoped>\n",
       "    .dataframe tbody tr th:only-of-type {\n",
       "        vertical-align: middle;\n",
       "    }\n",
       "\n",
       "    .dataframe tbody tr th {\n",
       "        vertical-align: top;\n",
       "    }\n",
       "\n",
       "    .dataframe thead th {\n",
       "        text-align: right;\n",
       "    }\n",
       "</style>\n",
       "<table border=\"1\" class=\"dataframe\">\n",
       "  <thead>\n",
       "    <tr style=\"text-align: right;\">\n",
       "      <th></th>\n",
       "      <th>User Rating</th>\n",
       "      <th>Year</th>\n",
       "    </tr>\n",
       "    <tr>\n",
       "      <th>Name</th>\n",
       "      <th></th>\n",
       "      <th></th>\n",
       "    </tr>\n",
       "  </thead>\n",
       "  <tbody>\n",
       "    <tr>\n",
       "      <th>Hamilton: The Revolution</th>\n",
       "      <td>4.9</td>\n",
       "      <td>2016.0</td>\n",
       "    </tr>\n",
       "    <tr>\n",
       "      <th>Rush Revere and the First Patriots: Time-Travel Adventures With Exceptional Americans (2)</th>\n",
       "      <td>4.9</td>\n",
       "      <td>2014.0</td>\n",
       "    </tr>\n",
       "    <tr>\n",
       "      <th>Harry Potter and the Sorcerer's Stone: The Illustrated Edition (Harry Potter, Book 1)</th>\n",
       "      <td>4.9</td>\n",
       "      <td>2016.0</td>\n",
       "    </tr>\n",
       "    <tr>\n",
       "      <th>Harry Potter and the Prisoner of Azkaban: The Illustrated Edition (Harry Potter, Book 3)</th>\n",
       "      <td>4.9</td>\n",
       "      <td>2017.0</td>\n",
       "    </tr>\n",
       "    <tr>\n",
       "      <th>Harry Potter and the Goblet of Fire: The Illustrated Edition (Harry Potter, Book 4) (4)</th>\n",
       "      <td>4.9</td>\n",
       "      <td>2019.0</td>\n",
       "    </tr>\n",
       "  </tbody>\n",
       "</table>\n",
       "</div>"
      ],
      "text/plain": [
       "                                                    User Rating    Year\n",
       "Name                                                                   \n",
       "Hamilton: The Revolution                                    4.9  2016.0\n",
       "Rush Revere and the First Patriots: Time-Travel...          4.9  2014.0\n",
       "Harry Potter and the Sorcerer's Stone: The Illu...          4.9  2016.0\n",
       "Harry Potter and the Prisoner of Azkaban: The I...          4.9  2017.0\n",
       "Harry Potter and the Goblet of Fire: The Illust...          4.9  2019.0"
      ]
     },
     "execution_count": 81,
     "metadata": {},
     "output_type": "execute_result"
    }
   ],
   "source": [
    "# Top 10 selling book\n",
    "data[['Name','User Rating','Year']].groupby(by='Name').mean().sort_values(by='User Rating',ascending=False).head(5)"
   ]
  },
  {
   "cell_type": "markdown",
   "id": "dcc0b37b",
   "metadata": {},
   "source": [
    "Three of the top five books sold were from the series of Harry Potter"
   ]
  },
  {
   "cell_type": "code",
   "execution_count": 71,
   "id": "7ec320e5",
   "metadata": {},
   "outputs": [
    {
     "data": {
      "text/html": [
       "<div>\n",
       "<style scoped>\n",
       "    .dataframe tbody tr th:only-of-type {\n",
       "        vertical-align: middle;\n",
       "    }\n",
       "\n",
       "    .dataframe tbody tr th {\n",
       "        vertical-align: top;\n",
       "    }\n",
       "\n",
       "    .dataframe thead th {\n",
       "        text-align: right;\n",
       "    }\n",
       "</style>\n",
       "<table border=\"1\" class=\"dataframe\">\n",
       "  <thead>\n",
       "    <tr style=\"text-align: right;\">\n",
       "      <th></th>\n",
       "      <th>Name</th>\n",
       "      <th>User Rating</th>\n",
       "    </tr>\n",
       "    <tr>\n",
       "      <th>Year</th>\n",
       "      <th></th>\n",
       "      <th></th>\n",
       "    </tr>\n",
       "  </thead>\n",
       "  <tbody>\n",
       "    <tr>\n",
       "      <th>2009</th>\n",
       "      <td>Where the Wild Things Are</td>\n",
       "      <td>4.8</td>\n",
       "    </tr>\n",
       "    <tr>\n",
       "      <th>2010</th>\n",
       "      <td>Women Food and God: An Unexpected Path to Almo...</td>\n",
       "      <td>4.8</td>\n",
       "    </tr>\n",
       "    <tr>\n",
       "      <th>2011</th>\n",
       "      <td>What to Expect When You're Expecting</td>\n",
       "      <td>4.9</td>\n",
       "    </tr>\n",
       "    <tr>\n",
       "      <th>2012</th>\n",
       "      <td>Winter of the World: Book Two of the Century T...</td>\n",
       "      <td>4.9</td>\n",
       "    </tr>\n",
       "    <tr>\n",
       "      <th>2013</th>\n",
       "      <td>Wonder</td>\n",
       "      <td>4.9</td>\n",
       "    </tr>\n",
       "    <tr>\n",
       "      <th>2014</th>\n",
       "      <td>Wonder</td>\n",
       "      <td>4.9</td>\n",
       "    </tr>\n",
       "    <tr>\n",
       "      <th>2015</th>\n",
       "      <td>Wonder</td>\n",
       "      <td>4.9</td>\n",
       "    </tr>\n",
       "    <tr>\n",
       "      <th>2016</th>\n",
       "      <td>You Are a Badass: How to Stop Doubting Your Gr...</td>\n",
       "      <td>4.9</td>\n",
       "    </tr>\n",
       "    <tr>\n",
       "      <th>2017</th>\n",
       "      <td>You Are a Badass: How to Stop Doubting Your Gr...</td>\n",
       "      <td>4.9</td>\n",
       "    </tr>\n",
       "    <tr>\n",
       "      <th>2018</th>\n",
       "      <td>You Are a Badass: How to Stop Doubting Your Gr...</td>\n",
       "      <td>4.9</td>\n",
       "    </tr>\n",
       "    <tr>\n",
       "      <th>2019</th>\n",
       "      <td>You Are a Badass: How to Stop Doubting Your Gr...</td>\n",
       "      <td>4.9</td>\n",
       "    </tr>\n",
       "  </tbody>\n",
       "</table>\n",
       "</div>"
      ],
      "text/plain": [
       "                                                   Name  User Rating\n",
       "Year                                                                \n",
       "2009                          Where the Wild Things Are          4.8\n",
       "2010  Women Food and God: An Unexpected Path to Almo...          4.8\n",
       "2011               What to Expect When You're Expecting          4.9\n",
       "2012  Winter of the World: Book Two of the Century T...          4.9\n",
       "2013                                             Wonder          4.9\n",
       "2014                                             Wonder          4.9\n",
       "2015                                             Wonder          4.9\n",
       "2016  You Are a Badass: How to Stop Doubting Your Gr...          4.9\n",
       "2017  You Are a Badass: How to Stop Doubting Your Gr...          4.9\n",
       "2018  You Are a Badass: How to Stop Doubting Your Gr...          4.9\n",
       "2019  You Are a Badass: How to Stop Doubting Your Gr...          4.9"
      ]
     },
     "execution_count": 71,
     "metadata": {},
     "output_type": "execute_result"
    }
   ],
   "source": [
    "# Top rated books every year\n",
    "data[['Name','User Rating','Year']].groupby(by='Year').max().sort_values(by='Year',ascending=True).head(20)"
   ]
  },
  {
   "cell_type": "code",
   "execution_count": 84,
   "id": "5fc60b60",
   "metadata": {},
   "outputs": [
    {
     "data": {
      "text/plain": [
       "<AxesSubplot:>"
      ]
     },
     "execution_count": 84,
     "metadata": {},
     "output_type": "execute_result"
    },
    {
     "data": {
      "image/png": "[encoded data removed]",
      "text/plain": [
       "<Figure size 432x288 with 2 Axes>"
      ]
     },
     "metadata": {
      "needs_background": "light"
     },
     "output_type": "display_data"
    }
   ],
   "source": [
    "sns.heatmap(data.corr(),annot=True)"
   ]
  },
  {
   "cell_type": "code",
   "execution_count": 86,
   "id": "4b9d02b8",
   "metadata": {},
   "outputs": [
    {
     "data": {
      "application/vnd.plotly.v1+json": {
       "config": {
        "plotlyServerURL": "https://plot.ly"
       },
       "data": [
        {
         "alignmentgroup": "True",
         "hovertemplate": "User Rating=%{x}<br>Price=%{y}<extra></extra>",
         "legendgroup": "",
         "marker": {
          "color": "#636efa",
          "pattern": {
           "shape": ""
          }
         },
         "name": "",
         "offsetgroup": "",
         "orientation": "v",
         "showlegend": false,
         "textposition": "auto",
         "type": "bar",
         "x": [
          4.7,
          4.6,
          4.7,
          4.7,
          4.8,
          4.4,
          4.7,
          4.7,
          4.7,
          4.6,
          4.6,
          4.6,
          4.6,
          4.5,
          4.6,
          4.5,
          4.6,
          4.4,
          4.5,
          4.8,
          4.6,
          4.6,
          3.9,
          4.6,
          4.3,
          4.6,
          4.7,
          4.2,
          4.6,
          4.6,
          4.8,
          4.7,
          4.8,
          4.8,
          4.8,
          4.7,
          4.7,
          4.7,
          4.6,
          4.5,
          4.9,
          4.9,
          4.8,
          4.6,
          4.8,
          4.5,
          4.7,
          4.7,
          4.7,
          4.7,
          4.7,
          4.7,
          4.7,
          4.3,
          4.8,
          4.8,
          4.6,
          4.6,
          4.8,
          4.4,
          4.6,
          4.3,
          4.2,
          4.8,
          4.8,
          4.8,
          4.8,
          4.6,
          4.6,
          4.5,
          4.5,
          4.8,
          4.8,
          4.8,
          4.6,
          4.6,
          4.6,
          4.5,
          4.6,
          4.7,
          4.8,
          4.9,
          4.9,
          4.9,
          4.9,
          4.9,
          4.9,
          4.9,
          4.8,
          4.6,
          4.5,
          4.5,
          4.3,
          4.5,
          4.5,
          4.7,
          4.7,
          4.7,
          4.7,
          4.7,
          4.6,
          4.6,
          4.7,
          4.4,
          4.4,
          4.5,
          3.8,
          3.8,
          4.5,
          4.2,
          4.7,
          4.7,
          4.7,
          4.7,
          4.7,
          4.4,
          4.7,
          4.4,
          4.6,
          4.6,
          4.6,
          4.5,
          4.6,
          4.8,
          4.8,
          4.8,
          4.8,
          4.8,
          4.6,
          4.6,
          4.6,
          4.6,
          3.6,
          4.8,
          4.6,
          4,
          4,
          4,
          4.6,
          4.5,
          4.5,
          4.5,
          4.5,
          4.8,
          4.8,
          4.8,
          4.9,
          4.9,
          4.6,
          4.4,
          4.8,
          4.9,
          4.8,
          4.9,
          4,
          4.9,
          4.9,
          4.9,
          4.7,
          4.8,
          4.8,
          4.7,
          4.7,
          4.4,
          4.4,
          4.8,
          4.7,
          4.7,
          4.7,
          4.7,
          4.7,
          4.3,
          4.8,
          4.8,
          4.9,
          4.7,
          4.8,
          4.6,
          4.8,
          4.8,
          4.3,
          4.4,
          4.1,
          4.6,
          4.4,
          4.4,
          4.8,
          4.9,
          4.9,
          4.9,
          4.9,
          4.9,
          4.9,
          4.6,
          4.5,
          4.6,
          4.5,
          4.6,
          4.7,
          4.7,
          4.6,
          4.6,
          4.8,
          4.8,
          4.5,
          4.5,
          4.5,
          4.9,
          4.6,
          4.6,
          4.6,
          4.6,
          4.6,
          4.5,
          4.5,
          4.4,
          4.8,
          4.5,
          4.1,
          4.9,
          4.5,
          4.5,
          4.2,
          4.8,
          4.8,
          4.8,
          4.5,
          4.7,
          4.8,
          4.7,
          4.7,
          4.7,
          4.4,
          4.6,
          4.6,
          4.6,
          4.5,
          4.5,
          4.5,
          4.8,
          4.8,
          4.6,
          4.7,
          4.6,
          4.9,
          4.9,
          4.9,
          4.9,
          4.9,
          4.9,
          4.9,
          4.9,
          4.9,
          4.8,
          4.2,
          4.6,
          4.6,
          4.5,
          4.3,
          4.6,
          4.6,
          4.6,
          4.7,
          4.7,
          4.8,
          4.8,
          4.8,
          4.8,
          4.7,
          4.3,
          4.3,
          4.5,
          4.5,
          4.5,
          4.5,
          4.5,
          4.5,
          4.5,
          4.5,
          4.5,
          4.5,
          4.8,
          4.6,
          4.6,
          4.7,
          4.7,
          4.6,
          4.6,
          4.9,
          4.9,
          4.8,
          4.8,
          4.6,
          4.8,
          4.8,
          4.7,
          4.7,
          4.8,
          4.1,
          4.7,
          4.6,
          4.6,
          4.6,
          4.9,
          4,
          4,
          4,
          4,
          4,
          4,
          4,
          4,
          4,
          4.5,
          4.6,
          4.5,
          4.4,
          4.4,
          4.3,
          4.3,
          4.7,
          4.7,
          4.7,
          4.7,
          4.7,
          4.8,
          4.8,
          4.8,
          4.8,
          4.8,
          4.8,
          4.6,
          4.6,
          4.6,
          4.6,
          4.7,
          4.7,
          4.7,
          4.7,
          4.6,
          4.7,
          4.7,
          4.7,
          4.8,
          4.2,
          4.8,
          4.7,
          4.6,
          4.6,
          4.8,
          4.8,
          4.8,
          4.8,
          3.3,
          4.7,
          4.3,
          4.3,
          4.3,
          4.8,
          4.4,
          4.8,
          4.8,
          4.8,
          4.1,
          4,
          4.7,
          4.7,
          4.7,
          4.7,
          4.6,
          4.6,
          4.6,
          4.6,
          4.6,
          4.6,
          4.7,
          4.7,
          4.7,
          4.7,
          4.7,
          4.7,
          4.8,
          4.1,
          4.1,
          4.7,
          4.7,
          4.7,
          4.7,
          4.4,
          4.4,
          4.8,
          4.8,
          3.9,
          3.9,
          4.4,
          4.4,
          4.4,
          4.5,
          4.7,
          4.3,
          4.6,
          4.8,
          4.8,
          4.8,
          4.8,
          4.8,
          4.8,
          4.7,
          4.7,
          4.7,
          4.8,
          4.8,
          4.7,
          4.7,
          4.7,
          4.3,
          4.3,
          4.7,
          4.8,
          4.8,
          4.9,
          4.4,
          4.4,
          4.5,
          4.5,
          4.5,
          4.5,
          4.4,
          4.8,
          4.2,
          4.8,
          4.9,
          4.8,
          4.7,
          4.5,
          4.8,
          4.6,
          4.8,
          4.8,
          4.4,
          4.4,
          4.4,
          4.4,
          4.4,
          4.3,
          4.3,
          4.8,
          4.8,
          4.8,
          4.5,
          4.4,
          4.8,
          4.8,
          4.6,
          4.3,
          4.3,
          4.6,
          4.6,
          4.8,
          4.6,
          4.6,
          4.6,
          4.5,
          4.8,
          4.6,
          4.6,
          4.6,
          4.7,
          4.7,
          4.7,
          4.4,
          4.4,
          4.7,
          4.7,
          4.8,
          4.7,
          4.9,
          4.9,
          4.9,
          4.9,
          4.9,
          4.9,
          4.9,
          4.6,
          4.6,
          4.6,
          4.9,
          4.9,
          4.9,
          4.9,
          4.8,
          4.8,
          4.7,
          4.7,
          4.6,
          4.6,
          4.5,
          4.5,
          4.3,
          4.3,
          4.6,
          4.6,
          4.6,
          4.6,
          4.3,
          4.8,
          4.8,
          4.8,
          4.8,
          4.8,
          4.6,
          4.8,
          4.5,
          4.7,
          4.5,
          4.8,
          4.8,
          4.8,
          4.8,
          4.8,
          4.3,
          4.9,
          4.8,
          4.7,
          4.8,
          4.5,
          4.6,
          4.7,
          4.7,
          4.8,
          4.4,
          4.4,
          4.4,
          4.8,
          4.8,
          4.8,
          4.6,
          4.4,
          4.5,
          4.2,
          4.8,
          4.8,
          4.8,
          4.8,
          4.8,
          4.9,
          4.7,
          4.7,
          4.7,
          4.7
         ],
         "xaxis": "x",
         "y": [
          8,
          22,
          15,
          6,
          12,
          11,
          30,
          15,
          3,
          8,
          8,
          2,
          32,
          5,
          17,
          4,
          6,
          6,
          8,
          13,
          14,
          14,
          13,
          9,
          13,
          5,
          9,
          14,
          5,
          11,
          24,
          21,
          11,
          11,
          15,
          13,
          13,
          18,
          13,
          8,
          5,
          5,
          0,
          4,
          18,
          28,
          11,
          11,
          11,
          16,
          14,
          14,
          14,
          8,
          4,
          5,
          11,
          11,
          10,
          13,
          4,
          8,
          4,
          5,
          5,
          5,
          5,
          17,
          15,
          105,
          105,
          0,
          15,
          22,
          5,
          15,
          15,
          6,
          6,
          13,
          12,
          6,
          8,
          4,
          4,
          8,
          8,
          6,
          20,
          5,
          16,
          1,
          14,
          9,
          9,
          7,
          18,
          15,
          15,
          9,
          8,
          8,
          15,
          2,
          7,
          11,
          14,
          14,
          32,
          6,
          4,
          4,
          4,
          4,
          4,
          9,
          0,
          9,
          5,
          5,
          5,
          20,
          16,
          4,
          4,
          4,
          4,
          4,
          12,
          12,
          12,
          11,
          19,
          9,
          6,
          10,
          10,
          9,
          6,
          14,
          14,
          14,
          14,
          5,
          5,
          5,
          7,
          7,
          10,
          14,
          7,
          54,
          11,
          30,
          12,
          18,
          30,
          22,
          9,
          52,
          4,
          10,
          10,
          14,
          14,
          22,
          11,
          11,
          11,
          11,
          11,
          16,
          15,
          15,
          17,
          17,
          7,
          7,
          4,
          4,
          9,
          21,
          14,
          20,
          13,
          13,
          12,
          8,
          8,
          8,
          8,
          8,
          8,
          0,
          12,
          17,
          12,
          25,
          10,
          10,
          6,
          5,
          6,
          8,
          4,
          4,
          4,
          13,
          4,
          4,
          4,
          4,
          4,
          13,
          21,
          6,
          15,
          18,
          10,
          0,
          12,
          7,
          13,
          5,
          5,
          16,
          20,
          11,
          27,
          8,
          8,
          8,
          6,
          10,
          10,
          10,
          8,
          8,
          8,
          16,
          11,
          10,
          9,
          14,
          22,
          8,
          8,
          8,
          8,
          8,
          8,
          8,
          8,
          7,
          12,
          13,
          13,
          9,
          13,
          11,
          20,
          20,
          5,
          5,
          2,
          27,
          27,
          27,
          9,
          10,
          10,
          46,
          46,
          46,
          46,
          46,
          46,
          46,
          46,
          46,
          46,
          4,
          20,
          7,
          9,
          9,
          12,
          12,
          12,
          12,
          20,
          20,
          10,
          6,
          6,
          9,
          11,
          16,
          6,
          25,
          17,
          20,
          20,
          6,
          17,
          17,
          17,
          17,
          17,
          17,
          17,
          17,
          17,
          18,
          13,
          18,
          20,
          20,
          22,
          21,
          28,
          28,
          28,
          28,
          28,
          8,
          8,
          8,
          8,
          8,
          12,
          24,
          24,
          24,
          24,
          16,
          16,
          16,
          39,
          9,
          10,
          10,
          17,
          11,
          14,
          12,
          53,
          6,
          6,
          8,
          8,
          12,
          12,
          12,
          21,
          6,
          6,
          13,
          0,
          11,
          9,
          9,
          9,
          15,
          11,
          13,
          13,
          7,
          13,
          6,
          6,
          6,
          6,
          6,
          9,
          6,
          6,
          6,
          6,
          6,
          6,
          0,
          18,
          7,
          14,
          14,
          9,
          16,
          2,
          2,
          5,
          5,
          20,
          20,
          7,
          7,
          7,
          14,
          10,
          7,
          13,
          11,
          6,
          6,
          8,
          7,
          14,
          14,
          8,
          8,
          30,
          30,
          13,
          9,
          9,
          7,
          7,
          9,
          7,
          7,
          20,
          13,
          13,
          11,
          11,
          11,
          11,
          18,
          14,
          19,
          13,
          5,
          10,
          9,
          8,
          8,
          12,
          11,
          11,
          40,
          40,
          40,
          40,
          40,
          36,
          16,
          17,
          14,
          21,
          18,
          17,
          5,
          5,
          21,
          18,
          18,
          12,
          14,
          12,
          8,
          8,
          0,
          14,
          10,
          15,
          15,
          15,
          9,
          7,
          10,
          6,
          9,
          10,
          82,
          12,
          10,
          5,
          5,
          5,
          5,
          5,
          5,
          5,
          16,
          16,
          16,
          10,
          10,
          10,
          10,
          4,
          4,
          16,
          15,
          19,
          19,
          9,
          23,
          11,
          11,
          23,
          23,
          23,
          23,
          12,
          0,
          0,
          0,
          0,
          7,
          21,
          21,
          15,
          9,
          5,
          16,
          16,
          16,
          13,
          16,
          20,
          11,
          4,
          9,
          42,
          12,
          18,
          17,
          14,
          13,
          9,
          6,
          6,
          14,
          15,
          13,
          12,
          18,
          15,
          11,
          9,
          9,
          9,
          9,
          9,
          8,
          8,
          8,
          8,
          8
         ],
         "yaxis": "y"
        }
       ],
       "layout": {
        "barmode": "relative",
        "legend": {
         "tracegroupgap": 0
        },
        "margin": {
         "t": 60
        },
        "template": {
         "data": {
          "bar": [
           {
            "error_x": {
             "color": "#2a3f5f"
            },
            "error_y": {
             "color": "#2a3f5f"
            },
            "marker": {
             "line": {
              "color": "#E5ECF6",
              "width": 0.5
             },
             "pattern": {
              "fillmode": "overlay",
              "size": 10,
              "solidity": 0.2
             }
            },
            "type": "bar"
           }
          ],
          "barpolar": [
           {
            "marker": {
             "line": {
              "color": "#E5ECF6",
              "width": 0.5
             },
             "pattern": {
              "fillmode": "overlay",
              "size": 10,
              "solidity": 0.2
             }
            },
            "type": "barpolar"
           }
          ],
          "carpet": [
           {
            "aaxis": {
             "endlinecolor": "#2a3f5f",
             "gridcolor": "white",
             "linecolor": "white",
             "minorgridcolor": "white",
             "startlinecolor": "#2a3f5f"
            },
            "baxis": {
             "endlinecolor": "#2a3f5f",
             "gridcolor": "white",
             "linecolor": "white",
             "minorgridcolor": "white",
             "startlinecolor": "#2a3f5f"
            },
            "type": "carpet"
           }
          ],
          "choropleth": [
           {
            "colorbar": {
             "outlinewidth": 0,
             "ticks": ""
            },
            "type": "choropleth"
           }
          ],
          "contour": [
           {
            "colorbar": {
             "outlinewidth": 0,
             "ticks": ""
            },
            "colorscale": [
             [
              0,
              "#0d0887"
             ],
             [
              0.1111111111111111,
              "#46039f"
             ],
             [
              0.2222222222222222,
              "#7201a8"
             ],
             [
              0.3333333333333333,
              "#9c179e"
             ],
             [
              0.4444444444444444,
              "#bd3786"
             ],
             [
              0.5555555555555556,
              "#d8576b"
             ],
             [
              0.6666666666666666,
              "#ed7953"
             ],
             [
              0.7777777777777778,
              "#fb9f3a"
             ],
             [
              0.8888888888888888,
              "#fdca26"
             ],
             [
              1,
              "#f0f921"
             ]
            ],
            "type": "contour"
           }
          ],
          "contourcarpet": [
           {
            "colorbar": {
             "outlinewidth": 0,
             "ticks": ""
            },
            "type": "contourcarpet"
           }
          ],
          "heatmap": [
           {
            "colorbar": {
             "outlinewidth": 0,
             "ticks": ""
            },
            "colorscale": [
             [
              0,
              "#0d0887"
             ],
             [
              0.1111111111111111,
              "#46039f"
             ],
             [
              0.2222222222222222,
              "#7201a8"
             ],
             [
              0.3333333333333333,
              "#9c179e"
             ],
             [
              0.4444444444444444,
              "#bd3786"
             ],
             [
              0.5555555555555556,
              "#d8576b"
             ],
             [
              0.6666666666666666,
              "#ed7953"
             ],
             [
              0.7777777777777778,
              "#fb9f3a"
             ],
             [
              0.8888888888888888,
              "#fdca26"
             ],
             [
              1,
              "#f0f921"
             ]
            ],
            "type": "heatmap"
           }
          ],
          "heatmapgl": [
           {
            "colorbar": {
             "outlinewidth": 0,
             "ticks": ""
            },
            "colorscale": [
             [
              0,
              "#0d0887"
             ],
             [
              0.1111111111111111,
              "#46039f"
             ],
             [
              0.2222222222222222,
              "#7201a8"
             ],
             [
              0.3333333333333333,
              "#9c179e"
             ],
             [
              0.4444444444444444,
              "#bd3786"
             ],
             [
              0.5555555555555556,
              "#d8576b"
             ],
             [
              0.6666666666666666,
              "#ed7953"
             ],
             [
              0.7777777777777778,
              "#fb9f3a"
             ],
             [
              0.8888888888888888,
              "#fdca26"
             ],
             [
              1,
              "#f0f921"
             ]
            ],
            "type": "heatmapgl"
           }
          ],
          "histogram": [
           {
            "marker": {
             "pattern": {
              "fillmode": "overlay",
              "size": 10,
              "solidity": 0.2
             }
            },
            "type": "histogram"
           }
          ],
          "histogram2d": [
           {
            "colorbar": {
             "outlinewidth": 0,
             "ticks": ""
            },
            "colorscale": [
             [
              0,
              "#0d0887"
             ],
             [
              0.1111111111111111,
              "#46039f"
             ],
             [
              0.2222222222222222,
              "#7201a8"
             ],
             [
              0.3333333333333333,
              "#9c179e"
             ],
             [
              0.4444444444444444,
              "#bd3786"
             ],
             [
              0.5555555555555556,
              "#d8576b"
             ],
             [
              0.6666666666666666,
              "#ed7953"
             ],
             [
              0.7777777777777778,
              "#fb9f3a"
             ],
             [
              0.8888888888888888,
              "#fdca26"
             ],
             [
              1,
              "#f0f921"
             ]
            ],
            "type": "histogram2d"
           }
          ],
          "histogram2dcontour": [
           {
            "colorbar": {
             "outlinewidth": 0,
             "ticks": ""
            },
            "colorscale": [
             [
              0,
              "#0d0887"
             ],
             [
              0.1111111111111111,
              "#46039f"
             ],
             [
              0.2222222222222222,
              "#7201a8"
             ],
             [
              0.3333333333333333,
              "#9c179e"
             ],
             [
              0.4444444444444444,
              "#bd3786"
             ],
             [
              0.5555555555555556,
              "#d8576b"
             ],
             [
              0.6666666666666666,
              "#ed7953"
             ],
             [
              0.7777777777777778,
              "#fb9f3a"
             ],
             [
              0.8888888888888888,
              "#fdca26"
             ],
             [
              1,
              "#f0f921"
             ]
            ],
            "type": "histogram2dcontour"
           }
          ],
          "mesh3d": [
           {
            "colorbar": {
             "outlinewidth": 0,
             "ticks": ""
            },
            "type": "mesh3d"
           }
          ],
          "parcoords": [
           {
            "line": {
             "colorbar": {
              "outlinewidth": 0,
              "ticks": ""
             }
            },
            "type": "parcoords"
           }
          ],
          "pie": [
           {
            "automargin": true,
            "type": "pie"
           }
          ],
          "scatter": [
           {
            "marker": {
             "colorbar": {
              "outlinewidth": 0,
              "ticks": ""
             }
            },
            "type": "scatter"
           }
          ],
          "scatter3d": [
           {
            "line": {
             "colorbar": {
              "outlinewidth": 0,
              "ticks": ""
             }
            },
            "marker": {
             "colorbar": {
              "outlinewidth": 0,
              "ticks": ""
             }
            },
            "type": "scatter3d"
           }
          ],
          "scattercarpet": [
           {
            "marker": {
             "colorbar": {
              "outlinewidth": 0,
              "ticks": ""
             }
            },
            "type": "scattercarpet"
           }
          ],
          "scattergeo": [
           {
            "marker": {
             "colorbar": {
              "outlinewidth": 0,
              "ticks": ""
             }
            },
            "type": "scattergeo"
           }
          ],
          "scattergl": [
           {
            "marker": {
             "colorbar": {
              "outlinewidth": 0,
              "ticks": ""
             }
            },
            "type": "scattergl"
           }
          ],
          "scattermapbox": [
           {
            "marker": {
             "colorbar": {
              "outlinewidth": 0,
              "ticks": ""
             }
            },
            "type": "scattermapbox"
           }
          ],
          "scatterpolar": [
           {
            "marker": {
             "colorbar": {
              "outlinewidth": 0,
              "ticks": ""
             }
            },
            "type": "scatterpolar"
           }
          ],
          "scatterpolargl": [
           {
            "marker": {
             "colorbar": {
              "outlinewidth": 0,
              "ticks": ""
             }
            },
            "type": "scatterpolargl"
           }
          ],
          "scatterternary": [
           {
            "marker": {
             "colorbar": {
              "outlinewidth": 0,
              "ticks": ""
             }
            },
            "type": "scatterternary"
           }
          ],
          "surface": [
           {
            "colorbar": {
             "outlinewidth": 0,
             "ticks": ""
            },
            "colorscale": [
             [
              0,
              "#0d0887"
             ],
             [
              0.1111111111111111,
              "#46039f"
             ],
             [
              0.2222222222222222,
              "#7201a8"
             ],
             [
              0.3333333333333333,
              "#9c179e"
             ],
             [
              0.4444444444444444,
              "#bd3786"
             ],
             [
              0.5555555555555556,
              "#d8576b"
             ],
             [
              0.6666666666666666,
              "#ed7953"
             ],
             [
              0.7777777777777778,
              "#fb9f3a"
             ],
             [
              0.8888888888888888,
              "#fdca26"
             ],
             [
              1,
              "#f0f921"
             ]
            ],
            "type": "surface"
           }
          ],
          "table": [
           {
            "cells": {
             "fill": {
              "color": "#EBF0F8"
             },
             "line": {
              "color": "white"
             }
            },
            "header": {
             "fill": {
              "color": "#C8D4E3"
             },
             "line": {
              "color": "white"
             }
            },
            "type": "table"
           }
          ]
         },
         "layout": {
          "annotationdefaults": {
           "arrowcolor": "#2a3f5f",
           "arrowhead": 0,
           "arrowwidth": 1
          },
          "autotypenumbers": "strict",
          "coloraxis": {
           "colorbar": {
            "outlinewidth": 0,
            "ticks": ""
           }
          },
          "colorscale": {
           "diverging": [
            [
             0,
             "#8e0152"
            ],
            [
             0.1,
             "#c51b7d"
            ],
            [
             0.2,
             "#de77ae"
            ],
            [
             0.3,
             "#f1b6da"
            ],
            [
             0.4,
             "#fde0ef"
            ],
            [
             0.5,
             "#f7f7f7"
            ],
            [
             0.6,
             "#e6f5d0"
            ],
            [
             0.7,
             "#b8e186"
            ],
            [
             0.8,
             "#7fbc41"
            ],
            [
             0.9,
             "#4d9221"
            ],
            [
             1,
             "#276419"
            ]
           ],
           "sequential": [
            [
             0,
             "#0d0887"
            ],
            [
             0.1111111111111111,
             "#46039f"
            ],
            [
             0.2222222222222222,
             "#7201a8"
            ],
            [
             0.3333333333333333,
             "#9c179e"
            ],
            [
             0.4444444444444444,
             "#bd3786"
            ],
            [
             0.5555555555555556,
             "#d8576b"
            ],
            [
             0.6666666666666666,
             "#ed7953"
            ],
            [
             0.7777777777777778,
             "#fb9f3a"
            ],
            [
             0.8888888888888888,
             "#fdca26"
            ],
            [
             1,
             "#f0f921"
            ]
           ],
           "sequentialminus": [
            [
             0,
             "#0d0887"
            ],
            [
             0.1111111111111111,
             "#46039f"
            ],
            [
             0.2222222222222222,
             "#7201a8"
            ],
            [
             0.3333333333333333,
             "#9c179e"
            ],
            [
             0.4444444444444444,
             "#bd3786"
            ],
            [
             0.5555555555555556,
             "#d8576b"
            ],
            [
             0.6666666666666666,
             "#ed7953"
            ],
            [
             0.7777777777777778,
             "#fb9f3a"
            ],
            [
             0.8888888888888888,
             "#fdca26"
            ],
            [
             1,
             "#f0f921"
            ]
           ]
          },
          "colorway": [
           "#636efa",
           "#EF553B",
           "#00cc96",
           "#ab63fa",
           "#FFA15A",
           "#19d3f3",
           "#FF6692",
           "#B6E880",
           "#FF97FF",
           "#FECB52"
          ],
          "font": {
           "color": "#2a3f5f"
          },
          "geo": {
           "bgcolor": "white",
           "lakecolor": "white",
           "landcolor": "#E5ECF6",
           "showlakes": true,
           "showland": true,
           "subunitcolor": "white"
          },
          "hoverlabel": {
           "align": "left"
          },
          "hovermode": "closest",
          "mapbox": {
           "style": "light"
          },
          "paper_bgcolor": "white",
          "plot_bgcolor": "#E5ECF6",
          "polar": {
           "angularaxis": {
            "gridcolor": "white",
            "linecolor": "white",
            "ticks": ""
           },
           "bgcolor": "#E5ECF6",
           "radialaxis": {
            "gridcolor": "white",
            "linecolor": "white",
            "ticks": ""
           }
          },
          "scene": {
           "xaxis": {
            "backgroundcolor": "#E5ECF6",
            "gridcolor": "white",
            "gridwidth": 2,
            "linecolor": "white",
            "showbackground": true,
            "ticks": "",
            "zerolinecolor": "white"
           },
           "yaxis": {
            "backgroundcolor": "#E5ECF6",
            "gridcolor": "white",
            "gridwidth": 2,
            "linecolor": "white",
            "showbackground": true,
            "ticks": "",
            "zerolinecolor": "white"
           },
           "zaxis": {
            "backgroundcolor": "#E5ECF6",
            "gridcolor": "white",
            "gridwidth": 2,
            "linecolor": "white",
            "showbackground": true,
            "ticks": "",
            "zerolinecolor": "white"
           }
          },
          "shapedefaults": {
           "line": {
            "color": "#2a3f5f"
           }
          },
          "ternary": {
           "aaxis": {
            "gridcolor": "white",
            "linecolor": "white",
            "ticks": ""
           },
           "baxis": {
            "gridcolor": "white",
            "linecolor": "white",
            "ticks": ""
           },
           "bgcolor": "#E5ECF6",
           "caxis": {
            "gridcolor": "white",
            "linecolor": "white",
            "ticks": ""
           }
          },
          "title": {
           "x": 0.05
          },
          "xaxis": {
           "automargin": true,
           "gridcolor": "white",
           "linecolor": "white",
           "ticks": "",
           "title": {
            "standoff": 15
           },
           "zerolinecolor": "white",
           "zerolinewidth": 2
          },
          "yaxis": {
           "automargin": true,
           "gridcolor": "white",
           "linecolor": "white",
           "ticks": "",
           "title": {
            "standoff": 15
           },
           "zerolinecolor": "white",
           "zerolinewidth": 2
          }
         }
        },
        "xaxis": {
         "anchor": "y",
         "domain": [
          0,
          1
         ],
         "title": {
          "text": "User Rating"
         }
        },
        "yaxis": {
         "anchor": "x",
         "domain": [
          0,
          1
         ],
         "title": {
          "text": "Price"
         }
        }
       }
      },
      "text/html": [
       "<div>                            <div id=\"7cec0642-6ce3-4a6e-bacb-50734608a469\" class=\"plotly-graph-div\" style=\"height:525px; width:100%;\"></div>            <script type=\"text/javascript\">                require([\"plotly\"], function(Plotly) {                    window.PLOTLYENV=window.PLOTLYENV || {};                                    if (document.getElementById(\"7cec0642-6ce3-4a6e-bacb-50734608a469\")) {                    Plotly.newPlot(                        \"7cec0642-6ce3-4a6e-bacb-50734608a469\",                        [{\"alignmentgroup\":\"True\",\"hovertemplate\":\"User Rating=%{x}<br>Price=%{y}<extra></extra>\",\"legendgroup\":\"\",\"marker\":{\"color\":\"#636efa\",\"pattern\":{\"shape\":\"\"}},\"name\":\"\",\"offsetgroup\":\"\",\"orientation\":\"v\",\"showlegend\":false,\"textposition\":\"auto\",\"x\":[4.7,4.6,4.7,4.7,4.8,4.4,4.7,4.7,4.7,4.6,4.6,4.6,4.6,4.5,4.6,4.5,4.6,4.4,4.5,4.8,4.6,4.6,3.9,4.6,4.3,4.6,4.7,4.2,4.6,4.6,4.8,4.7,4.8,4.8,4.8,4.7,4.7,4.7,4.6,4.5,4.9,4.9,4.8,4.6,4.8,4.5,4.7,4.7,4.7,4.7,4.7,4.7,4.7,4.3,4.8,4.8,4.6,4.6,4.8,4.4,4.6,4.3,4.2,4.8,4.8,4.8,4.8,4.6,4.6,4.5,4.5,4.8,4.8,4.8,4.6,4.6,4.6,4.5,4.6,4.7,4.8,4.9,4.9,4.9,4.9,4.9,4.9,4.9,4.8,4.6,4.5,4.5,4.3,4.5,4.5,4.7,4.7,4.7,4.7,4.7,4.6,4.6,4.7,4.4,4.4,4.5,3.8,3.8,4.5,4.2,4.7,4.7,4.7,4.7,4.7,4.4,4.7,4.4,4.6,4.6,4.6,4.5,4.6,4.8,4.8,4.8,4.8,4.8,4.6,4.6,4.6,4.6,3.6,4.8,4.6,4.0,4.0,4.0,4.6,4.5,4.5,4.5,4.5,4.8,4.8,4.8,4.9,4.9,4.6,4.4,4.8,4.9,4.8,4.9,4.0,4.9,4.9,4.9,4.7,4.8,4.8,4.7,4.7,4.4,4.4,4.8,4.7,4.7,4.7,4.7,4.7,4.3,4.8,4.8,4.9,4.7,4.8,4.6,4.8,4.8,4.3,4.4,4.1,4.6,4.4,4.4,4.8,4.9,4.9,4.9,4.9,4.9,4.9,4.6,4.5,4.6,4.5,4.6,4.7,4.7,4.6,4.6,4.8,4.8,4.5,4.5,4.5,4.9,4.6,4.6,4.6,4.6,4.6,4.5,4.5,4.4,4.8,4.5,4.1,4.9,4.5,4.5,4.2,4.8,4.8,4.8,4.5,4.7,4.8,4.7,4.7,4.7,4.4,4.6,4.6,4.6,4.5,4.5,4.5,4.8,4.8,4.6,4.7,4.6,4.9,4.9,4.9,4.9,4.9,4.9,4.9,4.9,4.9,4.8,4.2,4.6,4.6,4.5,4.3,4.6,4.6,4.6,4.7,4.7,4.8,4.8,4.8,4.8,4.7,4.3,4.3,4.5,4.5,4.5,4.5,4.5,4.5,4.5,4.5,4.5,4.5,4.8,4.6,4.6,4.7,4.7,4.6,4.6,4.9,4.9,4.8,4.8,4.6,4.8,4.8,4.7,4.7,4.8,4.1,4.7,4.6,4.6,4.6,4.9,4.0,4.0,4.0,4.0,4.0,4.0,4.0,4.0,4.0,4.5,4.6,4.5,4.4,4.4,4.3,4.3,4.7,4.7,4.7,4.7,4.7,4.8,4.8,4.8,4.8,4.8,4.8,4.6,4.6,4.6,4.6,4.7,4.7,4.7,4.7,4.6,4.7,4.7,4.7,4.8,4.2,4.8,4.7,4.6,4.6,4.8,4.8,4.8,4.8,3.3,4.7,4.3,4.3,4.3,4.8,4.4,4.8,4.8,4.8,4.1,4.0,4.7,4.7,4.7,4.7,4.6,4.6,4.6,4.6,4.6,4.6,4.7,4.7,4.7,4.7,4.7,4.7,4.8,4.1,4.1,4.7,4.7,4.7,4.7,4.4,4.4,4.8,4.8,3.9,3.9,4.4,4.4,4.4,4.5,4.7,4.3,4.6,4.8,4.8,4.8,4.8,4.8,4.8,4.7,4.7,4.7,4.8,4.8,4.7,4.7,4.7,4.3,4.3,4.7,4.8,4.8,4.9,4.4,4.4,4.5,4.5,4.5,4.5,4.4,4.8,4.2,4.8,4.9,4.8,4.7,4.5,4.8,4.6,4.8,4.8,4.4,4.4,4.4,4.4,4.4,4.3,4.3,4.8,4.8,4.8,4.5,4.4,4.8,4.8,4.6,4.3,4.3,4.6,4.6,4.8,4.6,4.6,4.6,4.5,4.8,4.6,4.6,4.6,4.7,4.7,4.7,4.4,4.4,4.7,4.7,4.8,4.7,4.9,4.9,4.9,4.9,4.9,4.9,4.9,4.6,4.6,4.6,4.9,4.9,4.9,4.9,4.8,4.8,4.7,4.7,4.6,4.6,4.5,4.5,4.3,4.3,4.6,4.6,4.6,4.6,4.3,4.8,4.8,4.8,4.8,4.8,4.6,4.8,4.5,4.7,4.5,4.8,4.8,4.8,4.8,4.8,4.3,4.9,4.8,4.7,4.8,4.5,4.6,4.7,4.7,4.8,4.4,4.4,4.4,4.8,4.8,4.8,4.6,4.4,4.5,4.2,4.8,4.8,4.8,4.8,4.8,4.9,4.7,4.7,4.7,4.7],\"xaxis\":\"x\",\"y\":[8,22,15,6,12,11,30,15,3,8,8,2,32,5,17,4,6,6,8,13,14,14,13,9,13,5,9,14,5,11,24,21,11,11,15,13,13,18,13,8,5,5,0,4,18,28,11,11,11,16,14,14,14,8,4,5,11,11,10,13,4,8,4,5,5,5,5,17,15,105,105,0,15,22,5,15,15,6,6,13,12,6,8,4,4,8,8,6,20,5,16,1,14,9,9,7,18,15,15,9,8,8,15,2,7,11,14,14,32,6,4,4,4,4,4,9,0,9,5,5,5,20,16,4,4,4,4,4,12,12,12,11,19,9,6,10,10,9,6,14,14,14,14,5,5,5,7,7,10,14,7,54,11,30,12,18,30,22,9,52,4,10,10,14,14,22,11,11,11,11,11,16,15,15,17,17,7,7,4,4,9,21,14,20,13,13,12,8,8,8,8,8,8,0,12,17,12,25,10,10,6,5,6,8,4,4,4,13,4,4,4,4,4,13,21,6,15,18,10,0,12,7,13,5,5,16,20,11,27,8,8,8,6,10,10,10,8,8,8,16,11,10,9,14,22,8,8,8,8,8,8,8,8,7,12,13,13,9,13,11,20,20,5,5,2,27,27,27,9,10,10,46,46,46,46,46,46,46,46,46,46,4,20,7,9,9,12,12,12,12,20,20,10,6,6,9,11,16,6,25,17,20,20,6,17,17,17,17,17,17,17,17,17,18,13,18,20,20,22,21,28,28,28,28,28,8,8,8,8,8,12,24,24,24,24,16,16,16,39,9,10,10,17,11,14,12,53,6,6,8,8,12,12,12,21,6,6,13,0,11,9,9,9,15,11,13,13,7,13,6,6,6,6,6,9,6,6,6,6,6,6,0,18,7,14,14,9,16,2,2,5,5,20,20,7,7,7,14,10,7,13,11,6,6,8,7,14,14,8,8,30,30,13,9,9,7,7,9,7,7,20,13,13,11,11,11,11,18,14,19,13,5,10,9,8,8,12,11,11,40,40,40,40,40,36,16,17,14,21,18,17,5,5,21,18,18,12,14,12,8,8,0,14,10,15,15,15,9,7,10,6,9,10,82,12,10,5,5,5,5,5,5,5,16,16,16,10,10,10,10,4,4,16,15,19,19,9,23,11,11,23,23,23,23,12,0,0,0,0,7,21,21,15,9,5,16,16,16,13,16,20,11,4,9,42,12,18,17,14,13,9,6,6,14,15,13,12,18,15,11,9,9,9,9,9,8,8,8,8,8],\"yaxis\":\"y\",\"type\":\"bar\"}],                        {\"template\":{\"data\":{\"bar\":[{\"error_x\":{\"color\":\"#2a3f5f\"},\"error_y\":{\"color\":\"#2a3f5f\"},\"marker\":{\"line\":{\"color\":\"#E5ECF6\",\"width\":0.5},\"pattern\":{\"fillmode\":\"overlay\",\"size\":10,\"solidity\":0.2}},\"type\":\"bar\"}],\"barpolar\":[{\"marker\":{\"line\":{\"color\":\"#E5ECF6\",\"width\":0.5},\"pattern\":{\"fillmode\":\"overlay\",\"size\":10,\"solidity\":0.2}},\"type\":\"barpolar\"}],\"carpet\":[{\"aaxis\":{\"endlinecolor\":\"#2a3f5f\",\"gridcolor\":\"white\",\"linecolor\":\"white\",\"minorgridcolor\":\"white\",\"startlinecolor\":\"#2a3f5f\"},\"baxis\":{\"endlinecolor\":\"#2a3f5f\",\"gridcolor\":\"white\",\"linecolor\":\"white\",\"minorgridcolor\":\"white\",\"startlinecolor\":\"#2a3f5f\"},\"type\":\"carpet\"}],\"choropleth\":[{\"colorbar\":{\"outlinewidth\":0,\"ticks\":\"\"},\"type\":\"choropleth\"}],\"contour\":[{\"colorbar\":{\"outlinewidth\":0,\"ticks\":\"\"},\"colorscale\":[[0.0,\"#0d0887\"],[0.1111111111111111,\"#46039f\"],[0.2222222222222222,\"#7201a8\"],[0.3333333333333333,\"#9c179e\"],[0.4444444444444444,\"#bd3786\"],[0.5555555555555556,\"#d8576b\"],[0.6666666666666666,\"#ed7953\"],[0.7777777777777778,\"#fb9f3a\"],[0.8888888888888888,\"#fdca26\"],[1.0,\"#f0f921\"]],\"type\":\"contour\"}],\"contourcarpet\":[{\"colorbar\":{\"outlinewidth\":0,\"ticks\":\"\"},\"type\":\"contourcarpet\"}],\"heatmap\":[{\"colorbar\":{\"outlinewidth\":0,\"ticks\":\"\"},\"colorscale\":[[0.0,\"#0d0887\"],[0.1111111111111111,\"#46039f\"],[0.2222222222222222,\"#7201a8\"],[0.3333333333333333,\"#9c179e\"],[0.4444444444444444,\"#bd3786\"],[0.5555555555555556,\"#d8576b\"],[0.6666666666666666,\"#ed7953\"],[0.7777777777777778,\"#fb9f3a\"],[0.8888888888888888,\"#fdca26\"],[1.0,\"#f0f921\"]],\"type\":\"heatmap\"}],\"heatmapgl\":[{\"colorbar\":{\"outlinewidth\":0,\"ticks\":\"\"},\"colorscale\":[[0.0,\"#0d0887\"],[0.1111111111111111,\"#46039f\"],[0.2222222222222222,\"#7201a8\"],[0.3333333333333333,\"#9c179e\"],[0.4444444444444444,\"#bd3786\"],[0.5555555555555556,\"#d8576b\"],[0.6666666666666666,\"#ed7953\"],[0.7777777777777778,\"#fb9f3a\"],[0.8888888888888888,\"#fdca26\"],[1.0,\"#f0f921\"]],\"type\":\"heatmapgl\"}],\"histogram\":[{\"marker\":{\"pattern\":{\"fillmode\":\"overlay\",\"size\":10,\"solidity\":0.2}},\"type\":\"histogram\"}],\"histogram2d\":[{\"colorbar\":{\"outlinewidth\":0,\"ticks\":\"\"},\"colorscale\":[[0.0,\"#0d0887\"],[0.1111111111111111,\"#46039f\"],[0.2222222222222222,\"#7201a8\"],[0.3333333333333333,\"#9c179e\"],[0.4444444444444444,\"#bd3786\"],[0.5555555555555556,\"#d8576b\"],[0.6666666666666666,\"#ed7953\"],[0.7777777777777778,\"#fb9f3a\"],[0.8888888888888888,\"#fdca26\"],[1.0,\"#f0f921\"]],\"type\":\"histogram2d\"}],\"histogram2dcontour\":[{\"colorbar\":{\"outlinewidth\":0,\"ticks\":\"\"},\"colorscale\":[[0.0,\"#0d0887\"],[0.1111111111111111,\"#46039f\"],[0.2222222222222222,\"#7201a8\"],[0.3333333333333333,\"#9c179e\"],[0.4444444444444444,\"#bd3786\"],[0.5555555555555556,\"#d8576b\"],[0.6666666666666666,\"#ed7953\"],[0.7777777777777778,\"#fb9f3a\"],[0.8888888888888888,\"#fdca26\"],[1.0,\"#f0f921\"]],\"type\":\"histogram2dcontour\"}],\"mesh3d\":[{\"colorbar\":{\"outlinewidth\":0,\"ticks\":\"\"},\"type\":\"mesh3d\"}],\"parcoords\":[{\"line\":{\"colorbar\":{\"outlinewidth\":0,\"ticks\":\"\"}},\"type\":\"parcoords\"}],\"pie\":[{\"automargin\":true,\"type\":\"pie\"}],\"scatter\":[{\"marker\":{\"colorbar\":{\"outlinewidth\":0,\"ticks\":\"\"}},\"type\":\"scatter\"}],\"scatter3d\":[{\"line\":{\"colorbar\":{\"outlinewidth\":0,\"ticks\":\"\"}},\"marker\":{\"colorbar\":{\"outlinewidth\":0,\"ticks\":\"\"}},\"type\":\"scatter3d\"}],\"scattercarpet\":[{\"marker\":{\"colorbar\":{\"outlinewidth\":0,\"ticks\":\"\"}},\"type\":\"scattercarpet\"}],\"scattergeo\":[{\"marker\":{\"colorbar\":{\"outlinewidth\":0,\"ticks\":\"\"}},\"type\":\"scattergeo\"}],\"scattergl\":[{\"marker\":{\"colorbar\":{\"outlinewidth\":0,\"ticks\":\"\"}},\"type\":\"scattergl\"}],\"scattermapbox\":[{\"marker\":{\"colorbar\":{\"outlinewidth\":0,\"ticks\":\"\"}},\"type\":\"scattermapbox\"}],\"scatterpolar\":[{\"marker\":{\"colorbar\":{\"outlinewidth\":0,\"ticks\":\"\"}},\"type\":\"scatterpolar\"}],\"scatterpolargl\":[{\"marker\":{\"colorbar\":{\"outlinewidth\":0,\"ticks\":\"\"}},\"type\":\"scatterpolargl\"}],\"scatterternary\":[{\"marker\":{\"colorbar\":{\"outlinewidth\":0,\"ticks\":\"\"}},\"type\":\"scatterternary\"}],\"surface\":[{\"colorbar\":{\"outlinewidth\":0,\"ticks\":\"\"},\"colorscale\":[[0.0,\"#0d0887\"],[0.1111111111111111,\"#46039f\"],[0.2222222222222222,\"#7201a8\"],[0.3333333333333333,\"#9c179e\"],[0.4444444444444444,\"#bd3786\"],[0.5555555555555556,\"#d8576b\"],[0.6666666666666666,\"#ed7953\"],[0.7777777777777778,\"#fb9f3a\"],[0.8888888888888888,\"#fdca26\"],[1.0,\"#f0f921\"]],\"type\":\"surface\"}],\"table\":[{\"cells\":{\"fill\":{\"color\":\"#EBF0F8\"},\"line\":{\"color\":\"white\"}},\"header\":{\"fill\":{\"color\":\"#C8D4E3\"},\"line\":{\"color\":\"white\"}},\"type\":\"table\"}]},\"layout\":{\"annotationdefaults\":{\"arrowcolor\":\"#2a3f5f\",\"arrowhead\":0,\"arrowwidth\":1},\"autotypenumbers\":\"strict\",\"coloraxis\":{\"colorbar\":{\"outlinewidth\":0,\"ticks\":\"\"}},\"colorscale\":{\"diverging\":[[0,\"#8e0152\"],[0.1,\"#c51b7d\"],[0.2,\"#de77ae\"],[0.3,\"#f1b6da\"],[0.4,\"#fde0ef\"],[0.5,\"#f7f7f7\"],[0.6,\"#e6f5d0\"],[0.7,\"#b8e186\"],[0.8,\"#7fbc41\"],[0.9,\"#4d9221\"],[1,\"#276419\"]],\"sequential\":[[0.0,\"#0d0887\"],[0.1111111111111111,\"#46039f\"],[0.2222222222222222,\"#7201a8\"],[0.3333333333333333,\"#9c179e\"],[0.4444444444444444,\"#bd3786\"],[0.5555555555555556,\"#d8576b\"],[0.6666666666666666,\"#ed7953\"],[0.7777777777777778,\"#fb9f3a\"],[0.8888888888888888,\"#fdca26\"],[1.0,\"#f0f921\"]],\"sequentialminus\":[[0.0,\"#0d0887\"],[0.1111111111111111,\"#46039f\"],[0.2222222222222222,\"#7201a8\"],[0.3333333333333333,\"#9c179e\"],[0.4444444444444444,\"#bd3786\"],[0.5555555555555556,\"#d8576b\"],[0.6666666666666666,\"#ed7953\"],[0.7777777777777778,\"#fb9f3a\"],[0.8888888888888888,\"#fdca26\"],[1.0,\"#f0f921\"]]},\"colorway\":[\"#636efa\",\"#EF553B\",\"#00cc96\",\"#ab63fa\",\"#FFA15A\",\"#19d3f3\",\"#FF6692\",\"#B6E880\",\"#FF97FF\",\"#FECB52\"],\"font\":{\"color\":\"#2a3f5f\"},\"geo\":{\"bgcolor\":\"white\",\"lakecolor\":\"white\",\"landcolor\":\"#E5ECF6\",\"showlakes\":true,\"showland\":true,\"subunitcolor\":\"white\"},\"hoverlabel\":{\"align\":\"left\"},\"hovermode\":\"closest\",\"mapbox\":{\"style\":\"light\"},\"paper_bgcolor\":\"white\",\"plot_bgcolor\":\"#E5ECF6\",\"polar\":{\"angularaxis\":{\"gridcolor\":\"white\",\"linecolor\":\"white\",\"ticks\":\"\"},\"bgcolor\":\"#E5ECF6\",\"radialaxis\":{\"gridcolor\":\"white\",\"linecolor\":\"white\",\"ticks\":\"\"}},\"scene\":{\"xaxis\":{\"backgroundcolor\":\"#E5ECF6\",\"gridcolor\":\"white\",\"gridwidth\":2,\"linecolor\":\"white\",\"showbackground\":true,\"ticks\":\"\",\"zerolinecolor\":\"white\"},\"yaxis\":{\"backgroundcolor\":\"#E5ECF6\",\"gridcolor\":\"white\",\"gridwidth\":2,\"linecolor\":\"white\",\"showbackground\":true,\"ticks\":\"\",\"zerolinecolor\":\"white\"},\"zaxis\":{\"backgroundcolor\":\"#E5ECF6\",\"gridcolor\":\"white\",\"gridwidth\":2,\"linecolor\":\"white\",\"showbackground\":true,\"ticks\":\"\",\"zerolinecolor\":\"white\"}},\"shapedefaults\":{\"line\":{\"color\":\"#2a3f5f\"}},\"ternary\":{\"aaxis\":{\"gridcolor\":\"white\",\"linecolor\":\"white\",\"ticks\":\"\"},\"baxis\":{\"gridcolor\":\"white\",\"linecolor\":\"white\",\"ticks\":\"\"},\"bgcolor\":\"#E5ECF6\",\"caxis\":{\"gridcolor\":\"white\",\"linecolor\":\"white\",\"ticks\":\"\"}},\"title\":{\"x\":0.05},\"xaxis\":{\"automargin\":true,\"gridcolor\":\"white\",\"linecolor\":\"white\",\"ticks\":\"\",\"title\":{\"standoff\":15},\"zerolinecolor\":\"white\",\"zerolinewidth\":2},\"yaxis\":{\"automargin\":true,\"gridcolor\":\"white\",\"linecolor\":\"white\",\"ticks\":\"\",\"title\":{\"standoff\":15},\"zerolinecolor\":\"white\",\"zerolinewidth\":2}}},\"xaxis\":{\"anchor\":\"y\",\"domain\":[0.0,1.0],\"title\":{\"text\":\"User Rating\"}},\"yaxis\":{\"anchor\":\"x\",\"domain\":[0.0,1.0],\"title\":{\"text\":\"Price\"}},\"legend\":{\"tracegroupgap\":0},\"margin\":{\"t\":60},\"barmode\":\"relative\"},                        {\"responsive\": true}                    ).then(function(){\n",
       "                            \n",
       "var gd = document.getElementById('7cec0642-6ce3-4a6e-bacb-50734608a469');\n",
       "var x = new MutationObserver(function (mutations, observer) {{\n",
       "        var display = window.getComputedStyle(gd).display;\n",
       "        if (!display || display === 'none') {{\n",
       "            console.log([gd, 'removed!']);\n",
       "            Plotly.purge(gd);\n",
       "            observer.disconnect();\n",
       "        }}\n",
       "}});\n",
       "\n",
       "// Listen for the removal of the full notebook cells\n",
       "var notebookContainer = gd.closest('#notebook-container');\n",
       "if (notebookContainer) {{\n",
       "    x.observe(notebookContainer, {childList: true});\n",
       "}}\n",
       "\n",
       "// Listen for the clearing of the current output cell\n",
       "var outputEl = gd.closest('.output');\n",
       "if (outputEl) {{\n",
       "    x.observe(outputEl, {childList: true});\n",
       "}}\n",
       "\n",
       "                        })                };                });            </script>        </div>"
      ]
     },
     "metadata": {},
     "output_type": "display_data"
    }
   ],
   "source": [
    "# Relation between rating and price\n",
    "px.bar(data,x='User Rating', y='Price')"
   ]
  },
  {
   "cell_type": "markdown",
   "id": "d3a5277f",
   "metadata": {},
   "source": [
    "The ratings are linearly related to price from 4.1 to 4.8\n",
    "\n",
    "Let us check the number of 4.9 rated books as the price is relatively lower as compared to other highly rated books"
   ]
  },
  {
   "cell_type": "code",
   "execution_count": 102,
   "id": "6d6abcbe",
   "metadata": {},
   "outputs": [
    {
     "data": {
      "text/plain": [
       "4.8    127\n",
       "4.7    108\n",
       "4.6    105\n",
       "4.5     60\n",
       "4.9     52\n",
       "4.4     38\n",
       "4.3     25\n",
       "4.0     14\n",
       "4.2      8\n",
       "4.1      6\n",
       "3.9      3\n",
       "3.8      2\n",
       "3.3      1\n",
       "3.6      1\n",
       "Name: User Rating, dtype: int64"
      ]
     },
     "execution_count": 102,
     "metadata": {},
     "output_type": "execute_result"
    }
   ],
   "source": [
    "data['User Rating'].value_counts()"
   ]
  },
  {
   "cell_type": "markdown",
   "id": "84811e6b",
   "metadata": {},
   "source": [
    "As suspected the number of books with 4.9 rated are very low which imacted the price rates"
   ]
  },
  {
   "cell_type": "code",
   "execution_count": null,
   "id": "0936e4e7",
   "metadata": {},
   "outputs": [],
   "source": []
  }
 ],
 "metadata": {
  "kernelspec": {
   "display_name": "Python 3",
   "language": "python",
   "name": "python3"
  },
  "language_info": {
   "codemirror_mode": {
    "name": "ipython",
    "version": 3
   },
   "file_extension": ".py",
   "mimetype": "text/x-python",
   "name": "python",
   "nbconvert_exporter": "python",
   "pygments_lexer": "ipython3",
   "version": "3.8.8"
  }
 },
 "nbformat": 4,
 "nbformat_minor": 5
}
